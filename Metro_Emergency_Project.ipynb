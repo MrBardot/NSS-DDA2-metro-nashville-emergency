{
 "cells": [
  {
   "cell_type": "code",
   "execution_count": 35,
   "metadata": {},
   "outputs": [],
   "source": [
    "from shapely.geometry import Point\n",
    "import pandas as pd\n",
    "import geopandas as gpd\n",
    "import matplotlib.pyplot as plt\n",
    "import folium\n",
    "from folium.plugins import MarkerCluster\n",
    "from folium.plugins import FastMarkerCluster"
   ]
  },
  {
   "cell_type": "code",
   "execution_count": 36,
   "metadata": {},
   "outputs": [],
   "source": [
    "calls_der = pd.read_csv('data/911_calls_der.csv')"
   ]
  },
  {
   "cell_type": "code",
   "execution_count": 37,
   "metadata": {},
   "outputs": [],
   "source": [
    "calls_tor = pd.read_csv('data/911_calls_tor.csv')"
   ]
  },
  {
   "cell_type": "code",
   "execution_count": 38,
   "metadata": {},
   "outputs": [],
   "source": [
    "cad_tor = pd.read_csv('data/CAD_data_tor.csv', skiprows = 3)"
   ]
  },
  {
   "cell_type": "code",
   "execution_count": 39,
   "metadata": {},
   "outputs": [],
   "source": [
    "cad_der = pd.read_csv( 'data/CAD_data_der.csv', skiprows = 3)"
   ]
  },
  {
   "cell_type": "code",
   "execution_count": 40,
   "metadata": {},
   "outputs": [],
   "source": [
    "calls_der = calls_der.rename(columns = {'Seizure DateTime':'date_time', 'CallTypeId':'call type', 'ALI Latitude':'lat',\n",
    "                                        'ALI Longitude': 'lng', 'Cell Tower Address':'cell tower address'})"
   ]
  },
  {
   "cell_type": "code",
   "execution_count": 41,
   "metadata": {},
   "outputs": [],
   "source": [
    "calls_tor = calls_tor.rename(columns = {'Seizure DateTime':'date_time', 'CallTypeId':'CallType', 'ALI Latitude':'lat',\n",
    "                                        'ALI Longitude':'lng', 'Cell Tower Address': 'cell_tower_address'})"
   ]
  },
  {
   "cell_type": "code",
   "execution_count": 42,
   "metadata": {},
   "outputs": [],
   "source": [
    "cad_der = cad_der.rename(columns = {'IncidentDate':'incident_date', 'Latitude1':'lat', 'Longitude1': 'lng',\n",
    "                                   'IncidentTypeDescription1':'incident_type'})"
   ]
  },
  {
   "cell_type": "code",
   "execution_count": 43,
   "metadata": {},
   "outputs": [],
   "source": [
    "cad_tor = cad_tor.rename(columns = {'IncidentDate':'incident_date', 'Location':'location', 'Latitude1':'lat',\n",
    "                                    'Longitude1':'lng','IncidentTypeDescription1':'incident_type'})"
   ]
  },
  {
   "cell_type": "code",
   "execution_count": 44,
   "metadata": {},
   "outputs": [
    {
     "data": {
      "text/html": [
       "<div>\n",
       "<style scoped>\n",
       "    .dataframe tbody tr th:only-of-type {\n",
       "        vertical-align: middle;\n",
       "    }\n",
       "\n",
       "    .dataframe tbody tr th {\n",
       "        vertical-align: top;\n",
       "    }\n",
       "\n",
       "    .dataframe thead th {\n",
       "        text-align: right;\n",
       "    }\n",
       "</style>\n",
       "<table border=\"1\" class=\"dataframe\">\n",
       "  <thead>\n",
       "    <tr style=\"text-align: right;\">\n",
       "      <th></th>\n",
       "      <th>incident_date</th>\n",
       "      <th>location</th>\n",
       "      <th>lat</th>\n",
       "      <th>lng</th>\n",
       "      <th>incident_type</th>\n",
       "    </tr>\n",
       "  </thead>\n",
       "  <tbody>\n",
       "    <tr>\n",
       "      <th>0</th>\n",
       "      <td>3/3/2020 12:36:34 AM</td>\n",
       "      <td>6205 COCKRILL BEND CIR</td>\n",
       "      <td>36.182002</td>\n",
       "      <td>-86.894052</td>\n",
       "      <td>GENERAL ALARM COMMERCIAL   INDUSTRIAL BUILD</td>\n",
       "    </tr>\n",
       "    <tr>\n",
       "      <th>1</th>\n",
       "      <td>3/3/2020 12:37:24 AM</td>\n",
       "      <td>7337 COCKRILL BEND BLVD</td>\n",
       "      <td>36.175666</td>\n",
       "      <td>-86.894978</td>\n",
       "      <td>GENERAL ALARM COMMERCIAL   INDUSTRIAL BUILD</td>\n",
       "    </tr>\n",
       "    <tr>\n",
       "      <th>2</th>\n",
       "      <td>3/3/2020 12:38:17 AM</td>\n",
       "      <td>110 TUNE AIRPORT DR</td>\n",
       "      <td>36.179299</td>\n",
       "      <td>-86.883727</td>\n",
       "      <td>STRUCTURE FIRE COMMERCIAL   INDUSTRIAL</td>\n",
       "    </tr>\n",
       "    <tr>\n",
       "      <th>3</th>\n",
       "      <td>3/3/2020 12:39:40 AM</td>\n",
       "      <td>555 MARRIOTT DR</td>\n",
       "      <td>36.151108</td>\n",
       "      <td>-86.689921</td>\n",
       "      <td>GENERAL ALARM COMMERCIAL   INDUSTRIAL BUILD</td>\n",
       "    </tr>\n",
       "    <tr>\n",
       "      <th>4</th>\n",
       "      <td>3/3/2020 12:39:42 AM</td>\n",
       "      <td>1414 COUNTY HOSPITAL RD</td>\n",
       "      <td>36.177926</td>\n",
       "      <td>-86.845934</td>\n",
       "      <td>GENERAL ALARM COMMERCIAL   INDUSTRIAL BUILD</td>\n",
       "    </tr>\n",
       "  </tbody>\n",
       "</table>\n",
       "</div>"
      ],
      "text/plain": [
       "          incident_date                  location        lat        lng  \\\n",
       "0  3/3/2020 12:36:34 AM   6205 COCKRILL BEND CIR   36.182002 -86.894052   \n",
       "1  3/3/2020 12:37:24 AM  7337 COCKRILL BEND BLVD   36.175666 -86.894978   \n",
       "2  3/3/2020 12:38:17 AM      110 TUNE AIRPORT DR   36.179299 -86.883727   \n",
       "3  3/3/2020 12:39:40 AM          555 MARRIOTT DR   36.151108 -86.689921   \n",
       "4  3/3/2020 12:39:42 AM  1414 COUNTY HOSPITAL RD   36.177926 -86.845934   \n",
       "\n",
       "                                 incident_type  \n",
       "0  GENERAL ALARM COMMERCIAL   INDUSTRIAL BUILD  \n",
       "1  GENERAL ALARM COMMERCIAL   INDUSTRIAL BUILD  \n",
       "2       STRUCTURE FIRE COMMERCIAL   INDUSTRIAL  \n",
       "3  GENERAL ALARM COMMERCIAL   INDUSTRIAL BUILD  \n",
       "4  GENERAL ALARM COMMERCIAL   INDUSTRIAL BUILD  "
      ]
     },
     "execution_count": 44,
     "metadata": {},
     "output_type": "execute_result"
    }
   ],
   "source": [
    "cad_tor.head()"
   ]
  },
  {
   "cell_type": "code",
   "execution_count": 45,
   "metadata": {},
   "outputs": [
    {
     "data": {
      "text/html": [
       "<div>\n",
       "<style scoped>\n",
       "    .dataframe tbody tr th:only-of-type {\n",
       "        vertical-align: middle;\n",
       "    }\n",
       "\n",
       "    .dataframe tbody tr th {\n",
       "        vertical-align: top;\n",
       "    }\n",
       "\n",
       "    .dataframe thead th {\n",
       "        text-align: right;\n",
       "    }\n",
       "</style>\n",
       "<table border=\"1\" class=\"dataframe\">\n",
       "  <thead>\n",
       "    <tr style=\"text-align: right;\">\n",
       "      <th></th>\n",
       "      <th>date_time</th>\n",
       "      <th>call type</th>\n",
       "      <th>lat</th>\n",
       "      <th>lng</th>\n",
       "      <th>cell tower address</th>\n",
       "      <th>geometry</th>\n",
       "    </tr>\n",
       "  </thead>\n",
       "  <tbody>\n",
       "    <tr>\n",
       "      <th>0</th>\n",
       "      <td>5/3/2020 16:30</td>\n",
       "      <td>911 Calls</td>\n",
       "      <td>36.247802</td>\n",
       "      <td>-86.716847</td>\n",
       "      <td>WIRELESS CALLER</td>\n",
       "      <td>POINT (-86.716847 36.247802)</td>\n",
       "    </tr>\n",
       "    <tr>\n",
       "      <th>1</th>\n",
       "      <td>5/3/2020 16:30</td>\n",
       "      <td>911 Calls</td>\n",
       "      <td>36.143108</td>\n",
       "      <td>-86.800621</td>\n",
       "      <td>1161 21ST AV S - SE</td>\n",
       "      <td>POINT (-86.80062099999999 36.14310800000001)</td>\n",
       "    </tr>\n",
       "  </tbody>\n",
       "</table>\n",
       "</div>"
      ],
      "text/plain": [
       "        date_time  call type        lat        lng   cell tower address  \\\n",
       "0  5/3/2020 16:30  911 Calls  36.247802 -86.716847      WIRELESS CALLER   \n",
       "1  5/3/2020 16:30  911 Calls  36.143108 -86.800621  1161 21ST AV S - SE   \n",
       "\n",
       "                                       geometry  \n",
       "0                  POINT (-86.716847 36.247802)  \n",
       "1  POINT (-86.80062099999999 36.14310800000001)  "
      ]
     },
     "execution_count": 45,
     "metadata": {},
     "output_type": "execute_result"
    }
   ],
   "source": [
    "calls_der['geometry'] = calls_der.apply(lambda x: Point((float(x.lng),\n",
    "                                                        float(x.lat))),\n",
    "                                       axis=1)\n",
    "calls_der.head(2)"
   ]
  },
  {
   "cell_type": "code",
   "execution_count": 46,
   "metadata": {},
   "outputs": [
    {
     "data": {
      "text/html": [
       "<div>\n",
       "<style scoped>\n",
       "    .dataframe tbody tr th:only-of-type {\n",
       "        vertical-align: middle;\n",
       "    }\n",
       "\n",
       "    .dataframe tbody tr th {\n",
       "        vertical-align: top;\n",
       "    }\n",
       "\n",
       "    .dataframe thead th {\n",
       "        text-align: right;\n",
       "    }\n",
       "</style>\n",
       "<table border=\"1\" class=\"dataframe\">\n",
       "  <thead>\n",
       "    <tr style=\"text-align: right;\">\n",
       "      <th></th>\n",
       "      <th>date_time</th>\n",
       "      <th>CallType</th>\n",
       "      <th>lat</th>\n",
       "      <th>lng</th>\n",
       "      <th>cell_tower_address</th>\n",
       "      <th>geometry</th>\n",
       "    </tr>\n",
       "  </thead>\n",
       "  <tbody>\n",
       "    <tr>\n",
       "      <th>0</th>\n",
       "      <td>3/3/2020 0:34</td>\n",
       "      <td>911 Calls</td>\n",
       "      <td>36.072708</td>\n",
       "      <td>-86.665779</td>\n",
       "      <td>620 Richards RD - N Sector</td>\n",
       "      <td>POINT (-86.665779 36.072708)</td>\n",
       "    </tr>\n",
       "    <tr>\n",
       "      <th>1</th>\n",
       "      <td>3/3/2020 0:36</td>\n",
       "      <td>911 Calls</td>\n",
       "      <td>36.159634</td>\n",
       "      <td>-86.841904</td>\n",
       "      <td>4507D KENTUCKY AV - SE</td>\n",
       "      <td>POINT (-86.841904 36.159634)</td>\n",
       "    </tr>\n",
       "  </tbody>\n",
       "</table>\n",
       "</div>"
      ],
      "text/plain": [
       "       date_time   CallType        lat        lng          cell_tower_address  \\\n",
       "0  3/3/2020 0:34  911 Calls  36.072708 -86.665779  620 Richards RD - N Sector   \n",
       "1  3/3/2020 0:36  911 Calls  36.159634 -86.841904      4507D KENTUCKY AV - SE   \n",
       "\n",
       "                       geometry  \n",
       "0  POINT (-86.665779 36.072708)  \n",
       "1  POINT (-86.841904 36.159634)  "
      ]
     },
     "execution_count": 46,
     "metadata": {},
     "output_type": "execute_result"
    }
   ],
   "source": [
    "calls_tor['geometry'] = calls_tor.apply(lambda x: Point((float(x.lng),\n",
    "                                                        float(x.lat))),\n",
    "                                       axis=1)\n",
    "calls_tor.head(2)"
   ]
  },
  {
   "cell_type": "code",
   "execution_count": 47,
   "metadata": {},
   "outputs": [
    {
     "data": {
      "text/html": [
       "<div>\n",
       "<style scoped>\n",
       "    .dataframe tbody tr th:only-of-type {\n",
       "        vertical-align: middle;\n",
       "    }\n",
       "\n",
       "    .dataframe tbody tr th {\n",
       "        vertical-align: top;\n",
       "    }\n",
       "\n",
       "    .dataframe thead th {\n",
       "        text-align: right;\n",
       "    }\n",
       "</style>\n",
       "<table border=\"1\" class=\"dataframe\">\n",
       "  <thead>\n",
       "    <tr style=\"text-align: right;\">\n",
       "      <th></th>\n",
       "      <th>incident_date</th>\n",
       "      <th>location</th>\n",
       "      <th>lat</th>\n",
       "      <th>lng</th>\n",
       "      <th>incident_type</th>\n",
       "      <th>geometry</th>\n",
       "    </tr>\n",
       "  </thead>\n",
       "  <tbody>\n",
       "    <tr>\n",
       "      <th>0</th>\n",
       "      <td>3/3/2020 12:36:34 AM</td>\n",
       "      <td>6205 COCKRILL BEND CIR</td>\n",
       "      <td>36.182002</td>\n",
       "      <td>-86.894052</td>\n",
       "      <td>GENERAL ALARM COMMERCIAL   INDUSTRIAL BUILD</td>\n",
       "      <td>POINT (-86.89405212 36.18200191)</td>\n",
       "    </tr>\n",
       "    <tr>\n",
       "      <th>1</th>\n",
       "      <td>3/3/2020 12:37:24 AM</td>\n",
       "      <td>7337 COCKRILL BEND BLVD</td>\n",
       "      <td>36.175666</td>\n",
       "      <td>-86.894978</td>\n",
       "      <td>GENERAL ALARM COMMERCIAL   INDUSTRIAL BUILD</td>\n",
       "      <td>POINT (-86.89497756999999 36.175666)</td>\n",
       "    </tr>\n",
       "  </tbody>\n",
       "</table>\n",
       "</div>"
      ],
      "text/plain": [
       "          incident_date                  location        lat        lng  \\\n",
       "0  3/3/2020 12:36:34 AM   6205 COCKRILL BEND CIR   36.182002 -86.894052   \n",
       "1  3/3/2020 12:37:24 AM  7337 COCKRILL BEND BLVD   36.175666 -86.894978   \n",
       "\n",
       "                                 incident_type  \\\n",
       "0  GENERAL ALARM COMMERCIAL   INDUSTRIAL BUILD   \n",
       "1  GENERAL ALARM COMMERCIAL   INDUSTRIAL BUILD   \n",
       "\n",
       "                               geometry  \n",
       "0      POINT (-86.89405212 36.18200191)  \n",
       "1  POINT (-86.89497756999999 36.175666)  "
      ]
     },
     "execution_count": 47,
     "metadata": {},
     "output_type": "execute_result"
    }
   ],
   "source": [
    "cad_tor['geometry'] = cad_tor.apply(lambda x: Point((float(x.lng),\n",
    "                                                    float(x.lat))),\n",
    "                                   axis=1)\n",
    "cad_tor.head(2)"
   ]
  },
  {
   "cell_type": "code",
   "execution_count": 48,
   "metadata": {},
   "outputs": [
    {
     "data": {
      "text/html": [
       "<div>\n",
       "<style scoped>\n",
       "    .dataframe tbody tr th:only-of-type {\n",
       "        vertical-align: middle;\n",
       "    }\n",
       "\n",
       "    .dataframe tbody tr th {\n",
       "        vertical-align: top;\n",
       "    }\n",
       "\n",
       "    .dataframe thead th {\n",
       "        text-align: right;\n",
       "    }\n",
       "</style>\n",
       "<table border=\"1\" class=\"dataframe\">\n",
       "  <thead>\n",
       "    <tr style=\"text-align: right;\">\n",
       "      <th></th>\n",
       "      <th>incident_date</th>\n",
       "      <th>Location</th>\n",
       "      <th>lat</th>\n",
       "      <th>lng</th>\n",
       "      <th>incident_type</th>\n",
       "      <th>geometry</th>\n",
       "    </tr>\n",
       "  </thead>\n",
       "  <tbody>\n",
       "    <tr>\n",
       "      <th>0</th>\n",
       "      <td>5/3/2020 4:31:07 PM</td>\n",
       "      <td>901 KENWICK CT W</td>\n",
       "      <td>36.046877</td>\n",
       "      <td>-86.962526</td>\n",
       "      <td>ELECTRICAL HAZARD</td>\n",
       "      <td>POINT (-86.96252641 36.04687715)</td>\n",
       "    </tr>\n",
       "    <tr>\n",
       "      <th>1</th>\n",
       "      <td>5/3/2020 4:32:18 PM</td>\n",
       "      <td>8036 ARBOR DR</td>\n",
       "      <td>36.082491</td>\n",
       "      <td>-86.940680</td>\n",
       "      <td>ELECTRICAL HAZARD</td>\n",
       "      <td>POINT (-86.94067952 36.08249081)</td>\n",
       "    </tr>\n",
       "  </tbody>\n",
       "</table>\n",
       "</div>"
      ],
      "text/plain": [
       "         incident_date          Location        lat        lng  \\\n",
       "0  5/3/2020 4:31:07 PM  901 KENWICK CT W  36.046877 -86.962526   \n",
       "1  5/3/2020 4:32:18 PM     8036 ARBOR DR  36.082491 -86.940680   \n",
       "\n",
       "       incident_type                          geometry  \n",
       "0  ELECTRICAL HAZARD  POINT (-86.96252641 36.04687715)  \n",
       "1  ELECTRICAL HAZARD  POINT (-86.94067952 36.08249081)  "
      ]
     },
     "execution_count": 48,
     "metadata": {},
     "output_type": "execute_result"
    }
   ],
   "source": [
    "cad_der['geometry'] = cad_der.apply(lambda x: Point((float(x.lng),\n",
    "                                                    float(x.lat))),\n",
    "                                   axis=1)\n",
    "cad_der.head(2)"
   ]
  },
  {
   "cell_type": "code",
   "execution_count": 49,
   "metadata": {},
   "outputs": [
    {
     "name": "stdout",
     "output_type": "stream",
     "text": [
      "<class 'pandas.core.frame.DataFrame'>\n",
      "<class 'pandas.core.frame.DataFrame'>\n",
      "<class 'pandas.core.frame.DataFrame'>\n",
      "<class 'pandas.core.frame.DataFrame'>\n"
     ]
    }
   ],
   "source": [
    "print(type(calls_tor))\n",
    "print(type(calls_der))\n",
    "print(type(cad_tor))\n",
    "print(type(cad_der))"
   ]
  },
  {
   "cell_type": "code",
   "execution_count": 52,
   "metadata": {},
   "outputs": [
    {
     "name": "stdout",
     "output_type": "stream",
     "text": [
      "<class 'pandas.core.frame.DataFrame'>\n",
      "RangeIndex: 475 entries, 0 to 474\n",
      "Data columns (total 6 columns):\n",
      " #   Column              Non-Null Count  Dtype  \n",
      "---  ------              --------------  -----  \n",
      " 0   date_time           475 non-null    object \n",
      " 1   CallType            475 non-null    object \n",
      " 2   lat                 450 non-null    float64\n",
      " 3   lng                 450 non-null    float64\n",
      " 4   cell_tower_address  468 non-null    object \n",
      " 5   geometry            475 non-null    object \n",
      "dtypes: float64(2), object(4)\n",
      "memory usage: 22.4+ KB\n"
     ]
    }
   ],
   "source": [
    "calls_tor.info()"
   ]
  },
  {
   "cell_type": "code",
   "execution_count": null,
   "metadata": {},
   "outputs": [],
   "source": []
  }
 ],
 "metadata": {
  "kernelspec": {
   "display_name": "Python 3",
   "language": "python",
   "name": "python3"
  },
  "language_info": {
   "codemirror_mode": {
    "name": "ipython",
    "version": 3
   },
   "file_extension": ".py",
   "mimetype": "text/x-python",
   "name": "python",
   "nbconvert_exporter": "python",
   "pygments_lexer": "ipython3",
   "version": "3.8.5"
  }
 },
 "nbformat": 4,
 "nbformat_minor": 4
}
