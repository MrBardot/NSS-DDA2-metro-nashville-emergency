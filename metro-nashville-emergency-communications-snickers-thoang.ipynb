{
 "cells": [
  {
   "cell_type": "markdown",
   "metadata": {},
   "source": [
    "## import necessary packages "
   ]
  },
  {
   "cell_type": "code",
   "execution_count": 1,
   "metadata": {},
   "outputs": [],
   "source": [
    "from datetime import datetime\n",
    "from shapely.geometry import Point\n",
    "import pandas as pd\n",
    "import geopandas as gpd\n",
    "import matplotlib.pyplot as plt\n",
    "import folium\n",
    "from folium.plugins import MarkerCluster\n",
    "from folium.plugins import FastMarkerCluster"
   ]
  },
  {
   "cell_type": "markdown",
   "metadata": {},
   "source": [
    "## read in CSVs "
   ]
  },
  {
   "cell_type": "code",
   "execution_count": 2,
   "metadata": {
    "scrolled": true
   },
   "outputs": [],
   "source": [
    "calls_derecho = pd.read_csv('./data/911_Phone_Calls_Derecho_050320_050420.csv')\n",
    "calls_tornado = pd.read_csv('./data/911_Phone_Calls_Tornado_030320.csv')\n",
    "dispatch_derecho = pd.read_csv('./data/Computer_Aided_Dispatch_Data_Derecho_Incidents_050320-050420.csv', skiprows = 3)\n",
    "dispatch_tornado = pd.read_csv('./data/Computer_Aided_Dispatch_Data_Tornado_Incidents_030320.csv', skiprows = 3)\n",
    "zipcodes = gpd.read_file('./data/zipcodes.geojson')\n",
    "dispatch = pd.read_csv('./data/Metro_Nashville_Police_Department_Calls_for_Service.csv')"
   ]
  },
  {
   "cell_type": "code",
   "execution_count": 3,
   "metadata": {},
   "outputs": [
    {
     "name": "stdout",
     "output_type": "stream",
     "text": [
      "object\n"
     ]
    }
   ],
   "source": [
    "print(dispatch['Call Received'].dtype)"
   ]
  },
  {
   "cell_type": "markdown",
   "metadata": {},
   "source": [
    "#metro_calls['Call Received'] = pd.to_datetime(metro_calls['Call Received'])"
   ]
  },
  {
   "cell_type": "code",
   "execution_count": null,
   "metadata": {},
   "outputs": [],
   "source": [
    "dispatch[[\"call_date\", \"call_time\"]]= dispatch.pop(\"Call Received\").str.split(\" \", n = 1, expand = True)\n"
   ]
  },
  {
   "cell_type": "markdown",
   "metadata": {},
   "source": [
    "dispatch=dispatch[dispatch[‘call_date’].isin([‘03/03/2020’, ‘05/03/2020’, ‘05/04/2020’])]\n",
    "dispatch=dispatch.reset_index(drop = True)\n",
    "dispatch.head()"
   ]
  },
  {
   "cell_type": "code",
   "execution_count": 6,
   "metadata": {},
   "outputs": [
    {
     "data": {
      "text/html": [
       "<div>\n",
       "<style scoped>\n",
       "    .dataframe tbody tr th:only-of-type {\n",
       "        vertical-align: middle;\n",
       "    }\n",
       "\n",
       "    .dataframe tbody tr th {\n",
       "        vertical-align: top;\n",
       "    }\n",
       "\n",
       "    .dataframe thead th {\n",
       "        text-align: right;\n",
       "    }\n",
       "</style>\n",
       "<table border=\"1\" class=\"dataframe\">\n",
       "  <thead>\n",
       "    <tr style=\"text-align: right;\">\n",
       "      <th></th>\n",
       "      <th>Event Number</th>\n",
       "      <th>Complaint Number</th>\n",
       "      <th>Shift</th>\n",
       "      <th>Tencode</th>\n",
       "      <th>Tencode Description</th>\n",
       "      <th>Tencode Suffix</th>\n",
       "      <th>Tencode Suffix Description</th>\n",
       "      <th>Disposition Code</th>\n",
       "      <th>Disposition Description</th>\n",
       "      <th>Block</th>\n",
       "      <th>Street Name</th>\n",
       "      <th>Unit Dispatched</th>\n",
       "      <th>Sector</th>\n",
       "      <th>Zone</th>\n",
       "      <th>RPA</th>\n",
       "      <th>Latitude</th>\n",
       "      <th>Longitude</th>\n",
       "      <th>Mapped Location</th>\n",
       "      <th>call_date</th>\n",
       "      <th>call_time</th>\n",
       "    </tr>\n",
       "  </thead>\n",
       "  <tbody>\n",
       "    <tr>\n",
       "      <th>0</th>\n",
       "      <td>PD202000711682</td>\n",
       "      <td>NaN</td>\n",
       "      <td>NaN</td>\n",
       "      <td>87</td>\n",
       "      <td>SAFETY HAZARD</td>\n",
       "      <td>P</td>\n",
       "      <td>PROGRESS</td>\n",
       "      <td>4</td>\n",
       "      <td>NaN</td>\n",
       "      <td>NaN</td>\n",
       "      <td>NaN</td>\n",
       "      <td>5250</td>\n",
       "      <td>H</td>\n",
       "      <td>513</td>\n",
       "      <td>9019.0</td>\n",
       "      <td>NaN</td>\n",
       "      <td>NaN</td>\n",
       "      <td>NaN</td>\n",
       "      <td>09/23/2020</td>\n",
       "      <td>02:26:09 PM</td>\n",
       "    </tr>\n",
       "    <tr>\n",
       "      <th>1</th>\n",
       "      <td>PD202000712516</td>\n",
       "      <td>NaN</td>\n",
       "      <td>NaN</td>\n",
       "      <td>83</td>\n",
       "      <td>SHOTS FIRED</td>\n",
       "      <td>P</td>\n",
       "      <td>PROGRESS</td>\n",
       "      <td>11</td>\n",
       "      <td>NaN</td>\n",
       "      <td>NaN</td>\n",
       "      <td>NaN</td>\n",
       "      <td>825B</td>\n",
       "      <td>N</td>\n",
       "      <td>617</td>\n",
       "      <td>4325.0</td>\n",
       "      <td>NaN</td>\n",
       "      <td>NaN</td>\n",
       "      <td>NaN</td>\n",
       "      <td>09/23/2020</td>\n",
       "      <td>09:47:43 PM</td>\n",
       "    </tr>\n",
       "    <tr>\n",
       "      <th>2</th>\n",
       "      <td>PD202000710687</td>\n",
       "      <td>NaN</td>\n",
       "      <td>NaN</td>\n",
       "      <td>93</td>\n",
       "      <td>TRAFFIC VIOLATION</td>\n",
       "      <td>NaN</td>\n",
       "      <td>NaN</td>\n",
       "      <td>3</td>\n",
       "      <td>NaN</td>\n",
       "      <td>NaN</td>\n",
       "      <td>NaN</td>\n",
       "      <td>5191</td>\n",
       "      <td>W</td>\n",
       "      <td>111N</td>\n",
       "      <td>5202.0</td>\n",
       "      <td>NaN</td>\n",
       "      <td>NaN</td>\n",
       "      <td>NaN</td>\n",
       "      <td>09/23/2020</td>\n",
       "      <td>05:28:57 AM</td>\n",
       "    </tr>\n",
       "    <tr>\n",
       "      <th>3</th>\n",
       "      <td>PD202000711464</td>\n",
       "      <td>NaN</td>\n",
       "      <td>NaN</td>\n",
       "      <td>96</td>\n",
       "      <td>BUSINESS CHECK</td>\n",
       "      <td>NaN</td>\n",
       "      <td>NaN</td>\n",
       "      <td>12</td>\n",
       "      <td>NaN</td>\n",
       "      <td>NaN</td>\n",
       "      <td>NaN</td>\n",
       "      <td>4E75</td>\n",
       "      <td>C</td>\n",
       "      <td>421</td>\n",
       "      <td>4095.0</td>\n",
       "      <td>NaN</td>\n",
       "      <td>NaN</td>\n",
       "      <td>NaN</td>\n",
       "      <td>09/23/2020</td>\n",
       "      <td>12:52:01 PM</td>\n",
       "    </tr>\n",
       "    <tr>\n",
       "      <th>4</th>\n",
       "      <td>PD201601010109</td>\n",
       "      <td>NaN</td>\n",
       "      <td>NaN</td>\n",
       "      <td>93</td>\n",
       "      <td>NaN</td>\n",
       "      <td>NaN</td>\n",
       "      <td>NaN</td>\n",
       "      <td>9T</td>\n",
       "      <td>NaN</td>\n",
       "      <td>NaN</td>\n",
       "      <td>NaN</td>\n",
       "      <td>321B</td>\n",
       "      <td>S</td>\n",
       "      <td>321</td>\n",
       "      <td>8706.0</td>\n",
       "      <td>NaN</td>\n",
       "      <td>NaN</td>\n",
       "      <td>NaN</td>\n",
       "      <td>10/03/2016</td>\n",
       "      <td>09:21:27 PM</td>\n",
       "    </tr>\n",
       "  </tbody>\n",
       "</table>\n",
       "</div>"
      ],
      "text/plain": [
       "     Event Number  Complaint Number  Shift  Tencode Tencode Description  \\\n",
       "0  PD202000711682               NaN    NaN       87       SAFETY HAZARD   \n",
       "1  PD202000712516               NaN    NaN       83         SHOTS FIRED   \n",
       "2  PD202000710687               NaN    NaN       93   TRAFFIC VIOLATION   \n",
       "3  PD202000711464               NaN    NaN       96      BUSINESS CHECK   \n",
       "4  PD201601010109               NaN    NaN       93                 NaN   \n",
       "\n",
       "  Tencode Suffix Tencode Suffix Description Disposition Code  \\\n",
       "0              P                   PROGRESS                4   \n",
       "1              P                   PROGRESS               11   \n",
       "2            NaN                        NaN                3   \n",
       "3            NaN                        NaN               12   \n",
       "4            NaN                        NaN               9T   \n",
       "\n",
       "   Disposition Description  Block Street Name Unit Dispatched Sector  Zone  \\\n",
       "0                      NaN    NaN         NaN            5250      H   513   \n",
       "1                      NaN    NaN         NaN            825B      N   617   \n",
       "2                      NaN    NaN         NaN            5191      W  111N   \n",
       "3                      NaN    NaN         NaN            4E75      C   421   \n",
       "4                      NaN    NaN         NaN            321B      S   321   \n",
       "\n",
       "      RPA  Latitude  Longitude Mapped Location   call_date    call_time  \n",
       "0  9019.0       NaN        NaN             NaN  09/23/2020  02:26:09 PM  \n",
       "1  4325.0       NaN        NaN             NaN  09/23/2020  09:47:43 PM  \n",
       "2  5202.0       NaN        NaN             NaN  09/23/2020  05:28:57 AM  \n",
       "3  4095.0       NaN        NaN             NaN  09/23/2020  12:52:01 PM  \n",
       "4  8706.0       NaN        NaN             NaN  10/03/2016  09:21:27 PM  "
      ]
     },
     "execution_count": 6,
     "metadata": {},
     "output_type": "execute_result"
    }
   ],
   "source": [
    "dispatch.head()"
   ]
  },
  {
   "cell_type": "code",
   "execution_count": null,
   "metadata": {},
   "outputs": [],
   "source": [
    "dispatch.shape"
   ]
  },
  {
   "cell_type": "code",
   "execution_count": null,
   "metadata": {},
   "outputs": [],
   "source": [
    "dispatch.isnull().sum()"
   ]
  },
  {
   "cell_type": "markdown",
   "metadata": {},
   "source": [
    "## Rename columns "
   ]
  },
  {
   "cell_type": "code",
   "execution_count": null,
   "metadata": {},
   "outputs": [],
   "source": [
    "calls_derecho = calls_derecho.rename(columns = {'Seizure DateTime': 'DateTime', 'CallTypeId': 'Call Type', 'ALI Latitude': 'Latitude', 'ALI Longitude': 'Longitude', 'Cell Tower Address': 'Cell Tower'})"
   ]
  },
  {
   "cell_type": "code",
   "execution_count": null,
   "metadata": {},
   "outputs": [],
   "source": [
    "calls_tornado = calls_tornado.rename(columns = {'Seizure DateTime': 'DateTime', 'CallTypeId': 'Call Type', 'ALI Latitude': 'Latitude', 'ALI Longitude': 'Longitude', 'Cell Tower Address': 'Cell Tower'})"
   ]
  },
  {
   "cell_type": "code",
   "execution_count": null,
   "metadata": {},
   "outputs": [],
   "source": [
    "dispatch_derecho = dispatch_derecho.rename(columns = {'IncidentDate': 'DateTime', 'Latitude1': 'Latitude', 'Longitude1': 'Longitude', 'IncidentTypeDescription1': 'Incident Description'})"
   ]
  },
  {
   "cell_type": "code",
   "execution_count": null,
   "metadata": {},
   "outputs": [],
   "source": [
    "dispatch_tornado = dispatch_tornado.rename(columns = {'IncidentDate': 'DateTime', 'Latitude1': 'Latitude', 'Longitude1': 'Longitude', 'IncidentTypeDescription1': 'Incident Description'})"
   ]
  },
  {
   "cell_type": "markdown",
   "metadata": {},
   "source": [
    "## Add geometry points to data sets "
   ]
  },
  {
   "cell_type": "code",
   "execution_count": null,
   "metadata": {},
   "outputs": [],
   "source": [
    "calls_derecho['Geometry'] = calls_derecho.apply(lambda x: Point((float(x.Longitude), \n",
    "                                                         float(x.Latitude))), \n",
    "                                        axis=1)"
   ]
  },
  {
   "cell_type": "code",
   "execution_count": null,
   "metadata": {},
   "outputs": [],
   "source": [
    "calls_tornado['Geometry'] = calls_tornado.apply(lambda x: Point((float(x.Longitude), \n",
    "                                                         float(x.Latitude))), \n",
    "                                        axis=1)"
   ]
  },
  {
   "cell_type": "code",
   "execution_count": null,
   "metadata": {},
   "outputs": [],
   "source": [
    "dispatch_derecho['Geometry'] = dispatch_derecho.apply(lambda x: Point((float(x.Longitude), \n",
    "                                                         float(x.Latitude))), \n",
    "                                        axis=1)"
   ]
  },
  {
   "cell_type": "code",
   "execution_count": null,
   "metadata": {},
   "outputs": [],
   "source": [
    "dispatch_tornado['Geometry'] = dispatch_tornado.apply(lambda x: Point((float(x.Longitude), \n",
    "                                                         float(x.Latitude))), \n",
    "                                        axis=1)"
   ]
  },
  {
   "cell_type": "markdown",
   "metadata": {},
   "source": [
    "## check data"
   ]
  },
  {
   "cell_type": "code",
   "execution_count": null,
   "metadata": {},
   "outputs": [],
   "source": [
    "calls_derecho.head()"
   ]
  },
  {
   "cell_type": "code",
   "execution_count": null,
   "metadata": {},
   "outputs": [],
   "source": [
    "calls_tornado.head()"
   ]
  },
  {
   "cell_type": "code",
   "execution_count": null,
   "metadata": {},
   "outputs": [],
   "source": [
    "dispatch_derecho.head()"
   ]
  },
  {
   "cell_type": "code",
   "execution_count": null,
   "metadata": {},
   "outputs": [],
   "source": [
    "dispatch_tornado.head()"
   ]
  },
  {
   "cell_type": "code",
   "execution_count": null,
   "metadata": {},
   "outputs": [],
   "source": [
    "zipcodes.head()"
   ]
  },
  {
   "cell_type": "markdown",
   "metadata": {},
   "source": [
    "## shape check"
   ]
  },
  {
   "cell_type": "code",
   "execution_count": null,
   "metadata": {},
   "outputs": [],
   "source": [
    "calls_derecho.shape"
   ]
  },
  {
   "cell_type": "code",
   "execution_count": null,
   "metadata": {},
   "outputs": [],
   "source": [
    "calls_tornado.shape"
   ]
  },
  {
   "cell_type": "code",
   "execution_count": null,
   "metadata": {},
   "outputs": [],
   "source": [
    "dispatch_derecho.shape"
   ]
  },
  {
   "cell_type": "code",
   "execution_count": null,
   "metadata": {},
   "outputs": [],
   "source": [
    "dispatch_tornado.shape"
   ]
  },
  {
   "cell_type": "markdown",
   "metadata": {},
   "source": [
    "## count Cell Towers and Incident Descriptions"
   ]
  },
  {
   "cell_type": "code",
   "execution_count": null,
   "metadata": {},
   "outputs": [],
   "source": [
    "calls_derecho['Cell Tower'].value_counts()"
   ]
  },
  {
   "cell_type": "code",
   "execution_count": null,
   "metadata": {},
   "outputs": [],
   "source": [
    "calls_tornado['Cell Tower'].value_counts()"
   ]
  },
  {
   "cell_type": "code",
   "execution_count": null,
   "metadata": {},
   "outputs": [],
   "source": [
    "dispatch_derecho['Incident Description'].value_counts()"
   ]
  },
  {
   "cell_type": "code",
   "execution_count": null,
   "metadata": {},
   "outputs": [],
   "source": [
    "dispatch_tornado['Incident Description'].value_counts()"
   ]
  },
  {
   "cell_type": "markdown",
   "metadata": {},
   "source": [
    "## count null values"
   ]
  },
  {
   "cell_type": "code",
   "execution_count": null,
   "metadata": {},
   "outputs": [],
   "source": [
    "calls_derecho.isnull().sum()"
   ]
  },
  {
   "cell_type": "code",
   "execution_count": null,
   "metadata": {},
   "outputs": [],
   "source": [
    "calls_tornado.isnull().sum()"
   ]
  },
  {
   "cell_type": "code",
   "execution_count": null,
   "metadata": {},
   "outputs": [],
   "source": [
    "dispatch_derecho.isnull().sum()"
   ]
  },
  {
   "cell_type": "code",
   "execution_count": null,
   "metadata": {},
   "outputs": [],
   "source": [
    "dispatch_tornado.isnull().sum()"
   ]
  },
  {
   "cell_type": "markdown",
   "metadata": {},
   "source": [
    "map1 = sns.FacetGrid(dispactch_derecho, col = 'Incident Description')\n",
    "map1.map(sns.barplot, \"DateTime\")"
   ]
  },
  {
   "cell_type": "markdown",
   "metadata": {},
   "source": [
    "plt.hist(dispatch_derecho['Incident Description'], bins = 10);"
   ]
  },
  {
   "cell_type": "markdown",
   "metadata": {},
   "source": [
    "## clean zipcodes data and create geodata frames for all datasets"
   ]
  },
  {
   "cell_type": "code",
   "execution_count": null,
   "metadata": {},
   "outputs": [],
   "source": [
    "zipcodes = zipcodes[['zip', 'po_name', 'geometry']]"
   ]
  },
  {
   "cell_type": "code",
   "execution_count": null,
   "metadata": {},
   "outputs": [],
   "source": [
    "derecho_calls_geo = gpd.GeoDataFrame(calls_derecho, \n",
    "                           crs = zipcodes.crs, \n",
    "                           geometry = calls_derecho['Geometry'])\n",
    "type(derecho_calls_geo)"
   ]
  },
  {
   "cell_type": "code",
   "execution_count": null,
   "metadata": {},
   "outputs": [],
   "source": [
    "tornado_calls_geo = gpd.GeoDataFrame(calls_tornado, \n",
    "                           crs = zipcodes.crs, \n",
    "                           geometry = calls_tornado['Geometry'])\n",
    "type(tornado_calls_geo)"
   ]
  },
  {
   "cell_type": "code",
   "execution_count": null,
   "metadata": {},
   "outputs": [],
   "source": [
    "dispatch_derecho_geo = gpd.GeoDataFrame(dispatch_derecho, \n",
    "                           crs = zipcodes.crs, \n",
    "                           geometry = dispatch_derecho['Geometry'])\n",
    "type(dispatch_derecho_geo)"
   ]
  },
  {
   "cell_type": "code",
   "execution_count": null,
   "metadata": {},
   "outputs": [],
   "source": [
    "dispatch_tornado_geo = gpd.GeoDataFrame(dispatch_tornado, \n",
    "                           crs = zipcodes.crs, \n",
    "                           geometry = dispatch_tornado['Geometry'])\n",
    "type(dispatch_tornado_geo)"
   ]
  },
  {
   "cell_type": "markdown",
   "metadata": {},
   "source": [
    "## merge data sets with zipcodes"
   ]
  },
  {
   "cell_type": "code",
   "execution_count": null,
   "metadata": {},
   "outputs": [],
   "source": [
    "derecho_calls_zip = gpd.sjoin(derecho_calls_geo, zipcodes, op = 'within')\n",
    "derecho_calls_zip"
   ]
  },
  {
   "cell_type": "code",
   "execution_count": null,
   "metadata": {},
   "outputs": [],
   "source": [
    "tornado_calls_zip = gpd.sjoin(tornado_calls_geo, zipcodes, op = 'within')\n",
    "tornado_calls_zip"
   ]
  },
  {
   "cell_type": "code",
   "execution_count": null,
   "metadata": {},
   "outputs": [],
   "source": [
    "dispatch_derecho_zip = gpd.sjoin(dispatch_derecho_geo, zipcodes, op = 'within')\n",
    "dispatch_derecho_zip"
   ]
  },
  {
   "cell_type": "code",
   "execution_count": null,
   "metadata": {},
   "outputs": [],
   "source": [
    "dispatch_tornado_zip = gpd.sjoin(dispatch_tornado_geo, zipcodes, op = 'within')\n",
    "dispatch_tornado_zip"
   ]
  },
  {
   "cell_type": "markdown",
   "metadata": {},
   "source": [
    "## nashville map "
   ]
  },
  {
   "cell_type": "code",
   "execution_count": null,
   "metadata": {},
   "outputs": [],
   "source": [
    "nashville = (36.16784, -86.77816)\n",
    "\n",
    "nash_map = folium.Map(location = nashville, zoom_start = 10)"
   ]
  },
  {
   "cell_type": "code",
   "execution_count": null,
   "metadata": {},
   "outputs": [],
   "source": [
    "poly_zip=zipcodes[zipcodes['zip'].isin(['37207', '37072', '37189', '37218','37015','37080'])]\n",
    "poly_zip.shape"
   ]
  },
  {
   "cell_type": "code",
   "execution_count": null,
   "metadata": {},
   "outputs": [],
   "source": [
    "tcalls_in_nw = tornado_calls_zip[tornado_calls_zip['zip'].isin(['37207', '37072', '37189', '37218','37015','37080'])]\n",
    "tcalls_in_nw.shape"
   ]
  },
  {
   "cell_type": "code",
   "execution_count": null,
   "metadata": {},
   "outputs": [],
   "source": [
    "cluster_map = MarkerCluster().add_to(nash_map)\n",
    "\n",
    "folium.GeoJson(poly_zip).add_to(nash_map)\n",
    "marker_cluster = MarkerCluster().add_to(nash_map)\n",
    "for row_index, row_values in tcalls_in_nw.iterrows():\n",
    "    loc = [row_values['Latitude'], row_values['Longitude']]\n",
    "    pop = str(row_values['Cell Tower'])\n",
    "    icon=folium.Icon(color=\"red\",icon=\"phone\", prefix='fa')\n",
    "    \n",
    "    marker = folium.Marker(\n",
    "        location = loc, \n",
    "        popup = pop,\n",
    "    icon = icon) \n",
    "    \n",
    "    marker.add_to(cluster_map)\n",
    "\n",
    "    \n",
    "#cluster_map_nw.save('../maps/clusternw.html')\n",
    "\n",
    "#cluster_map_nw\n"
   ]
  },
  {
   "cell_type": "code",
   "execution_count": null,
   "metadata": {
    "scrolled": true
   },
   "outputs": [],
   "source": [
    "nash_map"
   ]
  },
  {
   "cell_type": "code",
   "execution_count": null,
   "metadata": {},
   "outputs": [],
   "source": [
    "#poly = zipcodes.loc[zipcodes['zip'] == '37207']\n",
    "#polygon37207.shape"
   ]
  }
 ],
 "metadata": {
  "kernelspec": {
   "display_name": "Python 3",
   "language": "python",
   "name": "python3"
  },
  "language_info": {
   "codemirror_mode": {
    "name": "ipython",
    "version": 3
   },
   "file_extension": ".py",
   "mimetype": "text/x-python",
   "name": "python",
   "nbconvert_exporter": "python",
   "pygments_lexer": "ipython3",
   "version": "3.8.5"
  }
 },
 "nbformat": 4,
 "nbformat_minor": 4
}
