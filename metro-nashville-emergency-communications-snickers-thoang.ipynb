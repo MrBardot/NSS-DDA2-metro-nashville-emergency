{
 "cells": [
  {
   "cell_type": "markdown",
   "metadata": {},
   "source": [
    "## import necessary packages "
   ]
  },
  {
   "cell_type": "code",
   "execution_count": 1,
   "metadata": {},
   "outputs": [],
   "source": [
    "from shapely.geometry import Point\n",
    "import pandas as pd\n",
    "import geopandas as gpd\n",
    "import matplotlib.pyplot as plt\n",
    "import folium\n",
    "from folium.plugins import MarkerCluster\n",
    "from folium.plugins import FastMarkerCluster"
   ]
  },
  {
   "cell_type": "markdown",
   "metadata": {},
   "source": [
    "## read in CSVs and check first few rows "
   ]
  },
  {
   "cell_type": "code",
   "execution_count": 2,
   "metadata": {
    "scrolled": true
   },
   "outputs": [],
   "source": [
    "calls_derecho = pd.read_csv('./data/911_Phone_Calls_Derecho_050320_050420.csv')\n",
    "calls_tornado = pd.read_csv('./data/911_Phone_Calls_Tornado_030320.csv')\n",
    "dispatch_derecho = pd.read_csv('./data/Computer_Aided_Dispatch_Data_Derecho_Incidents_050320-050420.csv', skiprows = 3)\n",
    "dispatch_tornado = pd.read_csv('./data/Computer_Aided_Dispatch_Data_Tornado_Incidents_030320.csv', skiprows = 3)"
   ]
  },
  {
   "cell_type": "markdown",
   "metadata": {},
   "source": [
    "## calls_derecho"
   ]
  },
  {
   "cell_type": "code",
   "execution_count": 3,
   "metadata": {
    "scrolled": true
   },
   "outputs": [
    {
     "data": {
      "text/html": [
       "<div>\n",
       "<style scoped>\n",
       "    .dataframe tbody tr th:only-of-type {\n",
       "        vertical-align: middle;\n",
       "    }\n",
       "\n",
       "    .dataframe tbody tr th {\n",
       "        vertical-align: top;\n",
       "    }\n",
       "\n",
       "    .dataframe thead th {\n",
       "        text-align: right;\n",
       "    }\n",
       "</style>\n",
       "<table border=\"1\" class=\"dataframe\">\n",
       "  <thead>\n",
       "    <tr style=\"text-align: right;\">\n",
       "      <th></th>\n",
       "      <th>Seizure DateTime</th>\n",
       "      <th>CallTypeId</th>\n",
       "      <th>ALI Latitude</th>\n",
       "      <th>ALI Longitude</th>\n",
       "      <th>Cell Tower Address</th>\n",
       "    </tr>\n",
       "  </thead>\n",
       "  <tbody>\n",
       "    <tr>\n",
       "      <th>0</th>\n",
       "      <td>5/3/2020 16:30</td>\n",
       "      <td>911 Calls</td>\n",
       "      <td>36.247802</td>\n",
       "      <td>-86.716847</td>\n",
       "      <td>WIRELESS CALLER</td>\n",
       "    </tr>\n",
       "    <tr>\n",
       "      <th>1</th>\n",
       "      <td>5/3/2020 16:30</td>\n",
       "      <td>911 Calls</td>\n",
       "      <td>36.143108</td>\n",
       "      <td>-86.800621</td>\n",
       "      <td>1161 21ST AV S - SE</td>\n",
       "    </tr>\n",
       "    <tr>\n",
       "      <th>2</th>\n",
       "      <td>5/3/2020 16:30</td>\n",
       "      <td>911 Calls</td>\n",
       "      <td>36.100516</td>\n",
       "      <td>-87.056329</td>\n",
       "      <td>8013 C MCCRORY LN - N</td>\n",
       "    </tr>\n",
       "    <tr>\n",
       "      <th>3</th>\n",
       "      <td>5/3/2020 16:30</td>\n",
       "      <td>911 Calls</td>\n",
       "      <td>36.130021</td>\n",
       "      <td>-86.927819</td>\n",
       "      <td>5758 RIVER RD - SW</td>\n",
       "    </tr>\n",
       "    <tr>\n",
       "      <th>4</th>\n",
       "      <td>5/3/2020 16:31</td>\n",
       "      <td>911 Calls</td>\n",
       "      <td>36.142380</td>\n",
       "      <td>-86.881882</td>\n",
       "      <td>3744B ANNEX AVE - SE</td>\n",
       "    </tr>\n",
       "  </tbody>\n",
       "</table>\n",
       "</div>"
      ],
      "text/plain": [
       "  Seizure DateTime CallTypeId  ALI Latitude  ALI Longitude  \\\n",
       "0   5/3/2020 16:30  911 Calls     36.247802     -86.716847   \n",
       "1   5/3/2020 16:30  911 Calls     36.143108     -86.800621   \n",
       "2   5/3/2020 16:30  911 Calls     36.100516     -87.056329   \n",
       "3   5/3/2020 16:30  911 Calls     36.130021     -86.927819   \n",
       "4   5/3/2020 16:31  911 Calls     36.142380     -86.881882   \n",
       "\n",
       "      Cell Tower Address  \n",
       "0        WIRELESS CALLER  \n",
       "1    1161 21ST AV S - SE  \n",
       "2  8013 C MCCRORY LN - N  \n",
       "3     5758 RIVER RD - SW  \n",
       "4   3744B ANNEX AVE - SE  "
      ]
     },
     "execution_count": 3,
     "metadata": {},
     "output_type": "execute_result"
    }
   ],
   "source": [
    "calls_derecho.head()"
   ]
  },
  {
   "cell_type": "code",
   "execution_count": 4,
   "metadata": {},
   "outputs": [],
   "source": [
    "calls_derecho = calls_derecho.rename(columns = {'Seizure DateTime': 'DateTime', 'CallTypeId': 'Call Type', 'ALI Latitude': 'Latitude', 'ALI Longitude': 'Longitude', 'Cell Tower Address': 'Cell Tower'})"
   ]
  },
  {
   "cell_type": "code",
   "execution_count": 5,
   "metadata": {},
   "outputs": [],
   "source": [
    "calls_derecho['Geometry'] = calls_derecho.apply(lambda x: Point((float(x.Longitude), \n",
    "                                                         float(x.Latitude))), \n",
    "                                        axis=1)"
   ]
  },
  {
   "cell_type": "code",
   "execution_count": 6,
   "metadata": {},
   "outputs": [
    {
     "data": {
      "text/html": [
       "<div>\n",
       "<style scoped>\n",
       "    .dataframe tbody tr th:only-of-type {\n",
       "        vertical-align: middle;\n",
       "    }\n",
       "\n",
       "    .dataframe tbody tr th {\n",
       "        vertical-align: top;\n",
       "    }\n",
       "\n",
       "    .dataframe thead th {\n",
       "        text-align: right;\n",
       "    }\n",
       "</style>\n",
       "<table border=\"1\" class=\"dataframe\">\n",
       "  <thead>\n",
       "    <tr style=\"text-align: right;\">\n",
       "      <th></th>\n",
       "      <th>DateTime</th>\n",
       "      <th>Call Type</th>\n",
       "      <th>Latitude</th>\n",
       "      <th>Longitude</th>\n",
       "      <th>Cell Tower</th>\n",
       "      <th>Geometry</th>\n",
       "    </tr>\n",
       "  </thead>\n",
       "  <tbody>\n",
       "    <tr>\n",
       "      <th>0</th>\n",
       "      <td>5/3/2020 16:30</td>\n",
       "      <td>911 Calls</td>\n",
       "      <td>36.247802</td>\n",
       "      <td>-86.716847</td>\n",
       "      <td>WIRELESS CALLER</td>\n",
       "      <td>POINT (-86.716847 36.247802)</td>\n",
       "    </tr>\n",
       "    <tr>\n",
       "      <th>1</th>\n",
       "      <td>5/3/2020 16:30</td>\n",
       "      <td>911 Calls</td>\n",
       "      <td>36.143108</td>\n",
       "      <td>-86.800621</td>\n",
       "      <td>1161 21ST AV S - SE</td>\n",
       "      <td>POINT (-86.80062099999999 36.14310800000001)</td>\n",
       "    </tr>\n",
       "    <tr>\n",
       "      <th>2</th>\n",
       "      <td>5/3/2020 16:30</td>\n",
       "      <td>911 Calls</td>\n",
       "      <td>36.100516</td>\n",
       "      <td>-87.056329</td>\n",
       "      <td>8013 C MCCRORY LN - N</td>\n",
       "      <td>POINT (-87.05632900000001 36.100516)</td>\n",
       "    </tr>\n",
       "    <tr>\n",
       "      <th>3</th>\n",
       "      <td>5/3/2020 16:30</td>\n",
       "      <td>911 Calls</td>\n",
       "      <td>36.130021</td>\n",
       "      <td>-86.927819</td>\n",
       "      <td>5758 RIVER RD - SW</td>\n",
       "      <td>POINT (-86.927819 36.130021)</td>\n",
       "    </tr>\n",
       "    <tr>\n",
       "      <th>4</th>\n",
       "      <td>5/3/2020 16:31</td>\n",
       "      <td>911 Calls</td>\n",
       "      <td>36.142380</td>\n",
       "      <td>-86.881882</td>\n",
       "      <td>3744B ANNEX AVE - SE</td>\n",
       "      <td>POINT (-86.88188199999999 36.14238)</td>\n",
       "    </tr>\n",
       "  </tbody>\n",
       "</table>\n",
       "</div>"
      ],
      "text/plain": [
       "         DateTime  Call Type   Latitude  Longitude             Cell Tower  \\\n",
       "0  5/3/2020 16:30  911 Calls  36.247802 -86.716847        WIRELESS CALLER   \n",
       "1  5/3/2020 16:30  911 Calls  36.143108 -86.800621    1161 21ST AV S - SE   \n",
       "2  5/3/2020 16:30  911 Calls  36.100516 -87.056329  8013 C MCCRORY LN - N   \n",
       "3  5/3/2020 16:30  911 Calls  36.130021 -86.927819     5758 RIVER RD - SW   \n",
       "4  5/3/2020 16:31  911 Calls  36.142380 -86.881882   3744B ANNEX AVE - SE   \n",
       "\n",
       "                                       Geometry  \n",
       "0                  POINT (-86.716847 36.247802)  \n",
       "1  POINT (-86.80062099999999 36.14310800000001)  \n",
       "2          POINT (-87.05632900000001 36.100516)  \n",
       "3                  POINT (-86.927819 36.130021)  \n",
       "4           POINT (-86.88188199999999 36.14238)  "
      ]
     },
     "execution_count": 6,
     "metadata": {},
     "output_type": "execute_result"
    }
   ],
   "source": [
    "calls_derecho.head()"
   ]
  },
  {
   "cell_type": "code",
   "execution_count": 7,
   "metadata": {},
   "outputs": [
    {
     "data": {
      "text/plain": [
       "WIRELESS CALLER                   339\n",
       "4400 HARDING PIKE - E              15\n",
       "3901 GRANNY WHITE PIKE - SE        14\n",
       "3333 LEBANON PIKE - N              14\n",
       "WIRELESS 911 CALLER                14\n",
       "                                 ... \n",
       "315 4TH AV N                        1\n",
       "88C OCEANSIDE DR - SW               1\n",
       "4815 B TROUSDALE DR - N SECTOR      1\n",
       "2407 21ST AV S - N                  1\n",
       "2002 CAHAL AVE - SW SECTOR          1\n",
       "Name: Cell Tower, Length: 630, dtype: int64"
      ]
     },
     "execution_count": 7,
     "metadata": {},
     "output_type": "execute_result"
    }
   ],
   "source": [
    "calls_derecho['Cell Tower'].value_counts()"
   ]
  },
  {
   "cell_type": "code",
   "execution_count": 8,
   "metadata": {},
   "outputs": [
    {
     "data": {
      "text/plain": [
       "630"
      ]
     },
     "execution_count": 8,
     "metadata": {},
     "output_type": "execute_result"
    }
   ],
   "source": [
    "calls_derecho['Cell Tower'].nunique()"
   ]
  },
  {
   "cell_type": "code",
   "execution_count": 9,
   "metadata": {},
   "outputs": [
    {
     "data": {
      "text/plain": [
       "<bound method DataFrame.info of             DateTime  Call Type   Latitude  Longitude  \\\n",
       "0     5/3/2020 16:30  911 Calls  36.247802 -86.716847   \n",
       "1     5/3/2020 16:30  911 Calls  36.143108 -86.800621   \n",
       "2     5/3/2020 16:30  911 Calls  36.100516 -87.056329   \n",
       "3     5/3/2020 16:30  911 Calls  36.130021 -86.927819   \n",
       "4     5/3/2020 16:31  911 Calls  36.142380 -86.881882   \n",
       "...              ...        ...        ...        ...   \n",
       "1544   5/4/2020 0:18  911 Calls  36.131694 -86.770535   \n",
       "1545   5/4/2020 0:22  911 Calls  36.042237 -86.743455   \n",
       "1546   5/4/2020 0:25  911 Calls  36.077664 -86.655607   \n",
       "1547   5/4/2020 0:29  911 Calls  36.024706 -86.743562   \n",
       "1548   5/4/2020 0:29  911 Calls        NaN        NaN   \n",
       "\n",
       "                               Cell Tower  \\\n",
       "0                         WIRELESS CALLER   \n",
       "1                     1161 21ST AV S - SE   \n",
       "2                   8013 C MCCRORY LN - N   \n",
       "3                      5758 RIVER RD - SW   \n",
       "4                    3744B ANNEX AVE - SE   \n",
       "...                                   ...   \n",
       "1544         1823-C 12TH AV - SECTOR SE S   \n",
       "1545     5244-C EDMONSON PIKE - SECTOR SE   \n",
       "1546  2747-B MURFREESBORO PKE - SECTOR NW   \n",
       "1547               302 SUMMIT VIEW DR - E   \n",
       "1548                2014 QUAIL HOLLOW CIR   \n",
       "\n",
       "                                          Geometry  \n",
       "0                     POINT (-86.716847 36.247802)  \n",
       "1     POINT (-86.80062099999999 36.14310800000001)  \n",
       "2             POINT (-87.05632900000001 36.100516)  \n",
       "3                     POINT (-86.927819 36.130021)  \n",
       "4              POINT (-86.88188199999999 36.14238)  \n",
       "...                                            ...  \n",
       "1544                  POINT (-86.770535 36.131694)  \n",
       "1545          POINT (-86.74345500000001 36.042237)  \n",
       "1546          POINT (-86.65560699999999 36.077664)  \n",
       "1547                  POINT (-86.743562 36.024706)  \n",
       "1548                               POINT (nan nan)  \n",
       "\n",
       "[1549 rows x 6 columns]>"
      ]
     },
     "execution_count": 9,
     "metadata": {},
     "output_type": "execute_result"
    }
   ],
   "source": [
    "calls_derecho.info"
   ]
  },
  {
   "cell_type": "code",
   "execution_count": 10,
   "metadata": {},
   "outputs": [
    {
     "data": {
      "text/plain": [
       "(1549, 6)"
      ]
     },
     "execution_count": 10,
     "metadata": {},
     "output_type": "execute_result"
    }
   ],
   "source": [
    "calls_derecho.shape"
   ]
  },
  {
   "cell_type": "code",
   "execution_count": 11,
   "metadata": {},
   "outputs": [
    {
     "data": {
      "text/plain": [
       "DateTime       0\n",
       "Call Type      0\n",
       "Latitude      66\n",
       "Longitude     66\n",
       "Cell Tower    24\n",
       "Geometry       0\n",
       "dtype: int64"
      ]
     },
     "execution_count": 11,
     "metadata": {},
     "output_type": "execute_result"
    }
   ],
   "source": [
    "calls_derecho.isnull().sum()"
   ]
  },
  {
   "cell_type": "markdown",
   "metadata": {},
   "source": [
    "## calls_tornado "
   ]
  },
  {
   "cell_type": "code",
   "execution_count": 12,
   "metadata": {},
   "outputs": [],
   "source": [
    "calls_tornado = calls_tornado.rename(columns = {'Seizure DateTime': 'DateTime', 'CallTypeId': 'Call Type', 'ALI Latitude': 'Latitude', 'ALI Longitude': 'Longitude', 'Cell Tower Address': 'Cell Tower'})"
   ]
  },
  {
   "cell_type": "code",
   "execution_count": 13,
   "metadata": {},
   "outputs": [],
   "source": [
    "calls_tornado['Geometry'] = calls_tornado.apply(lambda x: Point((float(x.Longitude), \n",
    "                                                         float(x.Latitude))), \n",
    "                                        axis=1)"
   ]
  },
  {
   "cell_type": "code",
   "execution_count": 14,
   "metadata": {},
   "outputs": [
    {
     "data": {
      "text/html": [
       "<div>\n",
       "<style scoped>\n",
       "    .dataframe tbody tr th:only-of-type {\n",
       "        vertical-align: middle;\n",
       "    }\n",
       "\n",
       "    .dataframe tbody tr th {\n",
       "        vertical-align: top;\n",
       "    }\n",
       "\n",
       "    .dataframe thead th {\n",
       "        text-align: right;\n",
       "    }\n",
       "</style>\n",
       "<table border=\"1\" class=\"dataframe\">\n",
       "  <thead>\n",
       "    <tr style=\"text-align: right;\">\n",
       "      <th></th>\n",
       "      <th>DateTime</th>\n",
       "      <th>Call Type</th>\n",
       "      <th>Latitude</th>\n",
       "      <th>Longitude</th>\n",
       "      <th>Cell Tower</th>\n",
       "      <th>Geometry</th>\n",
       "    </tr>\n",
       "  </thead>\n",
       "  <tbody>\n",
       "    <tr>\n",
       "      <th>0</th>\n",
       "      <td>3/3/2020 0:34</td>\n",
       "      <td>911 Calls</td>\n",
       "      <td>36.072708</td>\n",
       "      <td>-86.665779</td>\n",
       "      <td>620 Richards RD - N Sector</td>\n",
       "      <td>POINT (-86.665779 36.072708)</td>\n",
       "    </tr>\n",
       "    <tr>\n",
       "      <th>1</th>\n",
       "      <td>3/3/2020 0:36</td>\n",
       "      <td>911 Calls</td>\n",
       "      <td>36.159634</td>\n",
       "      <td>-86.841904</td>\n",
       "      <td>4507D KENTUCKY AV - SE</td>\n",
       "      <td>POINT (-86.841904 36.159634)</td>\n",
       "    </tr>\n",
       "    <tr>\n",
       "      <th>2</th>\n",
       "      <td>3/3/2020 0:36</td>\n",
       "      <td>911 Calls</td>\n",
       "      <td>36.264153</td>\n",
       "      <td>-86.708862</td>\n",
       "      <td>329 THELMA ST - S Sector</td>\n",
       "      <td>POINT (-86.708862 36.264153)</td>\n",
       "    </tr>\n",
       "    <tr>\n",
       "      <th>3</th>\n",
       "      <td>3/3/2020 0:36</td>\n",
       "      <td>911 Calls</td>\n",
       "      <td>NaN</td>\n",
       "      <td>NaN</td>\n",
       "      <td>526 FOUNDRY DR</td>\n",
       "      <td>POINT (nan nan)</td>\n",
       "    </tr>\n",
       "    <tr>\n",
       "      <th>4</th>\n",
       "      <td>3/3/2020 0:36</td>\n",
       "      <td>911 Calls</td>\n",
       "      <td>36.233467</td>\n",
       "      <td>-86.721077</td>\n",
       "      <td>5007B RUSKIN AVE - N</td>\n",
       "      <td>POINT (-86.72107700000001 36.233467)</td>\n",
       "    </tr>\n",
       "  </tbody>\n",
       "</table>\n",
       "</div>"
      ],
      "text/plain": [
       "        DateTime  Call Type   Latitude  Longitude                  Cell Tower  \\\n",
       "0  3/3/2020 0:34  911 Calls  36.072708 -86.665779  620 Richards RD - N Sector   \n",
       "1  3/3/2020 0:36  911 Calls  36.159634 -86.841904      4507D KENTUCKY AV - SE   \n",
       "2  3/3/2020 0:36  911 Calls  36.264153 -86.708862    329 THELMA ST - S Sector   \n",
       "3  3/3/2020 0:36  911 Calls        NaN        NaN              526 FOUNDRY DR   \n",
       "4  3/3/2020 0:36  911 Calls  36.233467 -86.721077        5007B RUSKIN AVE - N   \n",
       "\n",
       "                               Geometry  \n",
       "0          POINT (-86.665779 36.072708)  \n",
       "1          POINT (-86.841904 36.159634)  \n",
       "2          POINT (-86.708862 36.264153)  \n",
       "3                       POINT (nan nan)  \n",
       "4  POINT (-86.72107700000001 36.233467)  "
      ]
     },
     "execution_count": 14,
     "metadata": {},
     "output_type": "execute_result"
    }
   ],
   "source": [
    "calls_tornado.head()"
   ]
  },
  {
   "cell_type": "code",
   "execution_count": 15,
   "metadata": {},
   "outputs": [
    {
     "data": {
      "text/plain": [
       "WIRELESS CALLER                       101\n",
       "907 12TH AV N - N                      16\n",
       "1051G CHICAMAUGA AVE - S               10\n",
       "3333 LEBANON PIKE - SE                  8\n",
       "4940 OLD HICKORY BLVD. - SE SECTOR      7\n",
       "                                     ... \n",
       "615 Moormans Arm RD - Sector NW         1\n",
       "212 COMMERCE ST - NW                    1\n",
       "600D MARRIOTT DR - SW                   1\n",
       "4310 CENTRAL PIKE - SE                  1\n",
       "96 D VANDIVER DR - SECTOR S             1\n",
       "Name: Cell Tower, Length: 211, dtype: int64"
      ]
     },
     "execution_count": 15,
     "metadata": {},
     "output_type": "execute_result"
    }
   ],
   "source": [
    "calls_tornado['Cell Tower'].value_counts()"
   ]
  },
  {
   "cell_type": "code",
   "execution_count": 16,
   "metadata": {},
   "outputs": [
    {
     "data": {
      "text/plain": [
       "211"
      ]
     },
     "execution_count": 16,
     "metadata": {},
     "output_type": "execute_result"
    }
   ],
   "source": [
    "calls_tornado['Cell Tower'].nunique()"
   ]
  },
  {
   "cell_type": "code",
   "execution_count": 17,
   "metadata": {},
   "outputs": [
    {
     "data": {
      "text/plain": [
       "<bound method DataFrame.info of           DateTime  Call Type   Latitude  Longitude  \\\n",
       "0    3/3/2020 0:34  911 Calls  36.072708 -86.665779   \n",
       "1    3/3/2020 0:36  911 Calls  36.159634 -86.841904   \n",
       "2    3/3/2020 0:36  911 Calls  36.264153 -86.708862   \n",
       "3    3/3/2020 0:36  911 Calls        NaN        NaN   \n",
       "4    3/3/2020 0:36  911 Calls  36.233467 -86.721077   \n",
       "..             ...        ...        ...        ...   \n",
       "470  3/3/2020 4:54  911 Calls  36.142552 -86.635330   \n",
       "471  3/3/2020 4:54  911 Calls  36.189415 -86.813557   \n",
       "472  3/3/2020 4:55  911 Calls  36.223534 -86.757874   \n",
       "473  3/3/2020 4:56  911 Calls  36.168398 -86.783774   \n",
       "474  3/3/2020 4:58  911 Calls  36.276566 -86.799417   \n",
       "\n",
       "                            Cell Tower                              Geometry  \n",
       "0           620 Richards RD - N Sector          POINT (-86.665779 36.072708)  \n",
       "1               4507D KENTUCKY AV - SE          POINT (-86.841904 36.159634)  \n",
       "2             329 THELMA ST - S Sector          POINT (-86.708862 36.264153)  \n",
       "3                       526 FOUNDRY DR                       POINT (nan nan)  \n",
       "4                 5007B RUSKIN AVE - N  POINT (-86.72107700000001 36.233467)  \n",
       "..                                 ...                                   ...  \n",
       "470                    WIRELESS CALLER  POINT (-86.63533000000001 36.142552)  \n",
       "471                    WIRELESS CALLER  POINT (-86.81355699999999 36.189415)  \n",
       "472                    WIRELESS CALLER          POINT (-86.757874 36.223534)  \n",
       "473  600 DR MARTIN L KING JR BLVD - NE  POINT (-86.78377399999999 36.168398)  \n",
       "474             4884 LICKTON PIKE - SE  POINT (-86.79941700000001 36.276566)  \n",
       "\n",
       "[475 rows x 6 columns]>"
      ]
     },
     "execution_count": 17,
     "metadata": {},
     "output_type": "execute_result"
    }
   ],
   "source": [
    "calls_tornado.info"
   ]
  },
  {
   "cell_type": "code",
   "execution_count": 18,
   "metadata": {},
   "outputs": [
    {
     "data": {
      "text/plain": [
       "(475, 6)"
      ]
     },
     "execution_count": 18,
     "metadata": {},
     "output_type": "execute_result"
    }
   ],
   "source": [
    "calls_tornado.shape"
   ]
  },
  {
   "cell_type": "code",
   "execution_count": 19,
   "metadata": {},
   "outputs": [
    {
     "data": {
      "text/plain": [
       "DateTime       0\n",
       "Call Type      0\n",
       "Latitude      25\n",
       "Longitude     25\n",
       "Cell Tower     7\n",
       "Geometry       0\n",
       "dtype: int64"
      ]
     },
     "execution_count": 19,
     "metadata": {},
     "output_type": "execute_result"
    }
   ],
   "source": [
    "calls_tornado.isnull().sum()"
   ]
  },
  {
   "cell_type": "code",
   "execution_count": 20,
   "metadata": {},
   "outputs": [],
   "source": [
    "nashville = (36.16784, -86.77816)\n",
    "\n",
    "nash_map = folium.Map(location = nashville, zoom_start = 10)"
   ]
  },
  {
   "cell_type": "code",
   "execution_count": 21,
   "metadata": {},
   "outputs": [
    {
     "data": {
      "text/html": [
       "<div style=\"width:100%;\"><div style=\"position:relative;width:100%;height:0;padding-bottom:60%;\"><span style=\"color:#565656\">Make this Notebook Trusted to load map: File -> Trust Notebook</span><iframe src=\"about:blank\" style=\"position:absolute;width:100%;height:100%;left:0;top:0;border:none !important;\" data-html=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 onload=\"this.contentDocument.open();this.contentDocument.write(atob(this.getAttribute('data-html')));this.contentDocument.close();\" allowfullscreen webkitallowfullscreen mozallowfullscreen></iframe></div></div>"
      ],
      "text/plain": [
       "<folium.folium.Map at 0x15b90cf3d60>"
      ]
     },
     "execution_count": 21,
     "metadata": {},
     "output_type": "execute_result"
    }
   ],
   "source": [
    "nash_map"
   ]
  },
  {
   "cell_type": "markdown",
   "metadata": {},
   "source": [
    "## dispatch_derecho"
   ]
  },
  {
   "cell_type": "code",
   "execution_count": 22,
   "metadata": {},
   "outputs": [],
   "source": [
    "dispatch_derecho = dispatch_derecho.rename(columns = {'IncidentDate': 'DateTime', 'Latitude1': 'Latitude', 'Longitude1': 'Longitude', 'IncidentTypeDescription1': 'Incident Description'})"
   ]
  },
  {
   "cell_type": "code",
   "execution_count": 23,
   "metadata": {},
   "outputs": [],
   "source": [
    "dispatch_derecho['Geometry'] = dispatch_derecho.apply(lambda x: Point((float(x.Longitude), \n",
    "                                                         float(x.Latitude))), \n",
    "                                        axis=1)"
   ]
  },
  {
   "cell_type": "code",
   "execution_count": 24,
   "metadata": {},
   "outputs": [
    {
     "data": {
      "text/html": [
       "<div>\n",
       "<style scoped>\n",
       "    .dataframe tbody tr th:only-of-type {\n",
       "        vertical-align: middle;\n",
       "    }\n",
       "\n",
       "    .dataframe tbody tr th {\n",
       "        vertical-align: top;\n",
       "    }\n",
       "\n",
       "    .dataframe thead th {\n",
       "        text-align: right;\n",
       "    }\n",
       "</style>\n",
       "<table border=\"1\" class=\"dataframe\">\n",
       "  <thead>\n",
       "    <tr style=\"text-align: right;\">\n",
       "      <th></th>\n",
       "      <th>DateTime</th>\n",
       "      <th>Location</th>\n",
       "      <th>Latitude</th>\n",
       "      <th>Longitude</th>\n",
       "      <th>Incident Description</th>\n",
       "      <th>Geometry</th>\n",
       "    </tr>\n",
       "  </thead>\n",
       "  <tbody>\n",
       "    <tr>\n",
       "      <th>0</th>\n",
       "      <td>5/3/2020 4:31:07 PM</td>\n",
       "      <td>901 KENWICK CT W</td>\n",
       "      <td>36.046877</td>\n",
       "      <td>-86.962526</td>\n",
       "      <td>ELECTRICAL HAZARD</td>\n",
       "      <td>POINT (-86.96252641 36.04687715)</td>\n",
       "    </tr>\n",
       "    <tr>\n",
       "      <th>1</th>\n",
       "      <td>5/3/2020 4:32:18 PM</td>\n",
       "      <td>8036 ARBOR DR</td>\n",
       "      <td>36.082491</td>\n",
       "      <td>-86.940680</td>\n",
       "      <td>ELECTRICAL HAZARD</td>\n",
       "      <td>POINT (-86.94067952 36.08249081)</td>\n",
       "    </tr>\n",
       "    <tr>\n",
       "      <th>2</th>\n",
       "      <td>5/3/2020 4:32:23 PM</td>\n",
       "      <td>119 DUE WEST AV E</td>\n",
       "      <td>36.248029</td>\n",
       "      <td>-86.716875</td>\n",
       "      <td>NOT ALERT COPD</td>\n",
       "      <td>POINT (-86.71687484 36.24802948)</td>\n",
       "    </tr>\n",
       "    <tr>\n",
       "      <th>3</th>\n",
       "      <td>5/3/2020 4:33:04 PM</td>\n",
       "      <td>630 GALLATIN PKE S</td>\n",
       "      <td>36.256491</td>\n",
       "      <td>-86.714817</td>\n",
       "      <td>ABDOMINAL PAIN</td>\n",
       "      <td>POINT (-86.71481656 36.25649117)</td>\n",
       "    </tr>\n",
       "    <tr>\n",
       "      <th>4</th>\n",
       "      <td>5/3/2020 4:33:52 PM</td>\n",
       "      <td>615 W HILLWOOD DR</td>\n",
       "      <td>36.129690</td>\n",
       "      <td>-86.879834</td>\n",
       "      <td>ELECTRICAL HAZARD</td>\n",
       "      <td>POINT (-86.87983392 36.12968971)</td>\n",
       "    </tr>\n",
       "  </tbody>\n",
       "</table>\n",
       "</div>"
      ],
      "text/plain": [
       "              DateTime            Location   Latitude  Longitude  \\\n",
       "0  5/3/2020 4:31:07 PM    901 KENWICK CT W  36.046877 -86.962526   \n",
       "1  5/3/2020 4:32:18 PM       8036 ARBOR DR  36.082491 -86.940680   \n",
       "2  5/3/2020 4:32:23 PM   119 DUE WEST AV E  36.248029 -86.716875   \n",
       "3  5/3/2020 4:33:04 PM  630 GALLATIN PKE S  36.256491 -86.714817   \n",
       "4  5/3/2020 4:33:52 PM   615 W HILLWOOD DR  36.129690 -86.879834   \n",
       "\n",
       "  Incident Description                          Geometry  \n",
       "0    ELECTRICAL HAZARD  POINT (-86.96252641 36.04687715)  \n",
       "1    ELECTRICAL HAZARD  POINT (-86.94067952 36.08249081)  \n",
       "2       NOT ALERT COPD  POINT (-86.71687484 36.24802948)  \n",
       "3       ABDOMINAL PAIN  POINT (-86.71481656 36.25649117)  \n",
       "4    ELECTRICAL HAZARD  POINT (-86.87983392 36.12968971)  "
      ]
     },
     "execution_count": 24,
     "metadata": {},
     "output_type": "execute_result"
    }
   ],
   "source": [
    "dispatch_derecho.head()"
   ]
  },
  {
   "cell_type": "code",
   "execution_count": 25,
   "metadata": {},
   "outputs": [
    {
     "data": {
      "text/plain": [
       "ELECTRICAL HAZARD                              370\n",
       "GENERAL ALARM COMMERCIAL   INDUSTRIAL BUILD     23\n",
       "MVA INJURIES:                                    8\n",
       "UNKNOWN STATUS:                                  6\n",
       "SMALL OUTSIDE FIRE                               6\n",
       "                                              ... \n",
       "REQUEST ADDITIONAL FIRE RESOURCES                1\n",
       "OUTSIDE ODOR                                     1\n",
       "BUILDING ENTRAPMENT  UNCONFIRMED                 1\n",
       "OVERDOSE NOT ALERT - ACCIDENTAL                  1\n",
       "SMOKE DETECTOR ALARM APARTMENT                   1\n",
       "Name: Incident Description, Length: 122, dtype: int64"
      ]
     },
     "execution_count": 25,
     "metadata": {},
     "output_type": "execute_result"
    }
   ],
   "source": [
    "dispatch_derecho['Incident Description'].value_counts()"
   ]
  },
  {
   "cell_type": "code",
   "execution_count": 26,
   "metadata": {},
   "outputs": [
    {
     "data": {
      "text/plain": [
       "122"
      ]
     },
     "execution_count": 26,
     "metadata": {},
     "output_type": "execute_result"
    }
   ],
   "source": [
    "dispatch_derecho['Incident Description'].nunique()"
   ]
  },
  {
   "cell_type": "code",
   "execution_count": 27,
   "metadata": {},
   "outputs": [
    {
     "data": {
      "text/plain": [
       "<bound method DataFrame.info of                  DateTime            Location   Latitude  Longitude  \\\n",
       "0     5/3/2020 4:31:07 PM    901 KENWICK CT W  36.046877 -86.962526   \n",
       "1     5/3/2020 4:32:18 PM       8036 ARBOR DR  36.082491 -86.940680   \n",
       "2     5/3/2020 4:32:23 PM   119 DUE WEST AV E  36.248029 -86.716875   \n",
       "3     5/3/2020 4:33:04 PM  630 GALLATIN PKE S  36.256491 -86.714817   \n",
       "4     5/3/2020 4:33:52 PM   615 W HILLWOOD DR  36.129690 -86.879834   \n",
       "..                    ...                 ...        ...        ...   \n",
       "622  5/4/2020 12:21:00 AM       625 BENTON AV  36.131384 -86.770628   \n",
       "623  5/4/2020 12:21:32 AM    518 BRENTLAWN DR  36.064362 -86.761199   \n",
       "624  5/4/2020 12:22:47 AM       517 ALBANY DR  36.212754 -86.600431   \n",
       "625  5/4/2020 12:27:52 AM    639 LAFAYETTE ST  36.153769 -86.777520   \n",
       "626  5/4/2020 12:29:50 AM      2011 HAYES ST   36.151839 -86.800791   \n",
       "\n",
       "                                 Incident Description  \\\n",
       "0                                   ELECTRICAL HAZARD   \n",
       "1                                   ELECTRICAL HAZARD   \n",
       "2                                      NOT ALERT COPD   \n",
       "3                                      ABDOMINAL PAIN   \n",
       "4                                   ELECTRICAL HAZARD   \n",
       "..                                                ...   \n",
       "622                        HIGH RISE NATURAL GAS ODOR   \n",
       "623                                    UNKNOWN STATUS   \n",
       "624                                 ELECTRICAL HAZARD   \n",
       "625                 SICK PERSON: NO PRIORITY SYMPTOMS   \n",
       "626  PULL STATION ALARM COMMERCIAL   INDUSTRIAL BUILD   \n",
       "\n",
       "                                   Geometry  \n",
       "0          POINT (-86.96252641 36.04687715)  \n",
       "1          POINT (-86.94067952 36.08249081)  \n",
       "2          POINT (-86.71687484 36.24802948)  \n",
       "3          POINT (-86.71481656 36.25649117)  \n",
       "4          POINT (-86.87983392 36.12968971)  \n",
       "..                                      ...  \n",
       "622        POINT (-86.77062846 36.13138384)  \n",
       "623        POINT (-86.76119919 36.06436167)  \n",
       "624        POINT (-86.60043136 36.21275421)  \n",
       "625  POINT (-86.77752015999999 36.15376939)  \n",
       "626        POINT (-86.80079126 36.15183909)  \n",
       "\n",
       "[627 rows x 6 columns]>"
      ]
     },
     "execution_count": 27,
     "metadata": {},
     "output_type": "execute_result"
    }
   ],
   "source": [
    "dispatch_derecho.info"
   ]
  },
  {
   "cell_type": "code",
   "execution_count": 28,
   "metadata": {},
   "outputs": [
    {
     "data": {
      "text/plain": [
       "(627, 6)"
      ]
     },
     "execution_count": 28,
     "metadata": {},
     "output_type": "execute_result"
    }
   ],
   "source": [
    "dispatch_derecho.shape"
   ]
  },
  {
   "cell_type": "code",
   "execution_count": 29,
   "metadata": {
    "scrolled": true
   },
   "outputs": [
    {
     "data": {
      "text/plain": [
       "DateTime                0\n",
       "Location                0\n",
       "Latitude                0\n",
       "Longitude               0\n",
       "Incident Description    0\n",
       "Geometry                0\n",
       "dtype: int64"
      ]
     },
     "execution_count": 29,
     "metadata": {},
     "output_type": "execute_result"
    }
   ],
   "source": [
    "dispatch_derecho.isnull().sum()"
   ]
  },
  {
   "cell_type": "markdown",
   "metadata": {},
   "source": [
    "map1 = sns.FacetGrid(dispactch_derecho, col = 'Incident Description')\n",
    "map1.map(sns.barplot, \"DateTime\")"
   ]
  },
  {
   "cell_type": "markdown",
   "metadata": {},
   "source": [
    "plt.hist(dispatch_derecho['Incident Description'], bins = 10);"
   ]
  },
  {
   "cell_type": "markdown",
   "metadata": {},
   "source": [
    "## dispatch_tornado "
   ]
  },
  {
   "cell_type": "code",
   "execution_count": 30,
   "metadata": {},
   "outputs": [],
   "source": [
    "dispatch_tornado = dispatch_tornado.rename(columns = {'IncidentDate': 'DateTime', 'Latitude1': 'Latitude', 'Longitude1': 'Longitude', 'IncidentTypeDescription1': 'Incident Description'})"
   ]
  },
  {
   "cell_type": "code",
   "execution_count": 31,
   "metadata": {},
   "outputs": [],
   "source": [
    "dispatch_tornado['Geometry'] = dispatch_tornado.apply(lambda x: Point((float(x.Longitude), \n",
    "                                                         float(x.Latitude))), \n",
    "                                        axis=1)"
   ]
  },
  {
   "cell_type": "code",
   "execution_count": 32,
   "metadata": {},
   "outputs": [
    {
     "data": {
      "text/html": [
       "<div>\n",
       "<style scoped>\n",
       "    .dataframe tbody tr th:only-of-type {\n",
       "        vertical-align: middle;\n",
       "    }\n",
       "\n",
       "    .dataframe tbody tr th {\n",
       "        vertical-align: top;\n",
       "    }\n",
       "\n",
       "    .dataframe thead th {\n",
       "        text-align: right;\n",
       "    }\n",
       "</style>\n",
       "<table border=\"1\" class=\"dataframe\">\n",
       "  <thead>\n",
       "    <tr style=\"text-align: right;\">\n",
       "      <th></th>\n",
       "      <th>DateTime</th>\n",
       "      <th>Location</th>\n",
       "      <th>Latitude</th>\n",
       "      <th>Longitude</th>\n",
       "      <th>Incident Description</th>\n",
       "      <th>Geometry</th>\n",
       "    </tr>\n",
       "  </thead>\n",
       "  <tbody>\n",
       "    <tr>\n",
       "      <th>0</th>\n",
       "      <td>3/3/2020 12:36:34 AM</td>\n",
       "      <td>6205 COCKRILL BEND CIR</td>\n",
       "      <td>36.182002</td>\n",
       "      <td>-86.894052</td>\n",
       "      <td>GENERAL ALARM COMMERCIAL   INDUSTRIAL BUILD</td>\n",
       "      <td>POINT (-86.89405212 36.18200191)</td>\n",
       "    </tr>\n",
       "    <tr>\n",
       "      <th>1</th>\n",
       "      <td>3/3/2020 12:37:24 AM</td>\n",
       "      <td>7337 COCKRILL BEND BLVD</td>\n",
       "      <td>36.175666</td>\n",
       "      <td>-86.894978</td>\n",
       "      <td>GENERAL ALARM COMMERCIAL   INDUSTRIAL BUILD</td>\n",
       "      <td>POINT (-86.89497756999999 36.175666)</td>\n",
       "    </tr>\n",
       "    <tr>\n",
       "      <th>2</th>\n",
       "      <td>3/3/2020 12:38:17 AM</td>\n",
       "      <td>110 TUNE AIRPORT DR</td>\n",
       "      <td>36.179299</td>\n",
       "      <td>-86.883727</td>\n",
       "      <td>STRUCTURE FIRE COMMERCIAL   INDUSTRIAL</td>\n",
       "      <td>POINT (-86.8837274 36.17929946)</td>\n",
       "    </tr>\n",
       "    <tr>\n",
       "      <th>3</th>\n",
       "      <td>3/3/2020 12:39:40 AM</td>\n",
       "      <td>555 MARRIOTT DR</td>\n",
       "      <td>36.151108</td>\n",
       "      <td>-86.689921</td>\n",
       "      <td>GENERAL ALARM COMMERCIAL   INDUSTRIAL BUILD</td>\n",
       "      <td>POINT (-86.6899214 36.1511077)</td>\n",
       "    </tr>\n",
       "    <tr>\n",
       "      <th>4</th>\n",
       "      <td>3/3/2020 12:39:42 AM</td>\n",
       "      <td>1414 COUNTY HOSPITAL RD</td>\n",
       "      <td>36.177926</td>\n",
       "      <td>-86.845934</td>\n",
       "      <td>GENERAL ALARM COMMERCIAL   INDUSTRIAL BUILD</td>\n",
       "      <td>POINT (-86.84593411 36.17792604)</td>\n",
       "    </tr>\n",
       "  </tbody>\n",
       "</table>\n",
       "</div>"
      ],
      "text/plain": [
       "               DateTime                  Location   Latitude  Longitude  \\\n",
       "0  3/3/2020 12:36:34 AM   6205 COCKRILL BEND CIR   36.182002 -86.894052   \n",
       "1  3/3/2020 12:37:24 AM  7337 COCKRILL BEND BLVD   36.175666 -86.894978   \n",
       "2  3/3/2020 12:38:17 AM      110 TUNE AIRPORT DR   36.179299 -86.883727   \n",
       "3  3/3/2020 12:39:40 AM          555 MARRIOTT DR   36.151108 -86.689921   \n",
       "4  3/3/2020 12:39:42 AM  1414 COUNTY HOSPITAL RD   36.177926 -86.845934   \n",
       "\n",
       "                          Incident Description  \\\n",
       "0  GENERAL ALARM COMMERCIAL   INDUSTRIAL BUILD   \n",
       "1  GENERAL ALARM COMMERCIAL   INDUSTRIAL BUILD   \n",
       "2       STRUCTURE FIRE COMMERCIAL   INDUSTRIAL   \n",
       "3  GENERAL ALARM COMMERCIAL   INDUSTRIAL BUILD   \n",
       "4  GENERAL ALARM COMMERCIAL   INDUSTRIAL BUILD   \n",
       "\n",
       "                               Geometry  \n",
       "0      POINT (-86.89405212 36.18200191)  \n",
       "1  POINT (-86.89497756999999 36.175666)  \n",
       "2       POINT (-86.8837274 36.17929946)  \n",
       "3        POINT (-86.6899214 36.1511077)  \n",
       "4      POINT (-86.84593411 36.17792604)  "
      ]
     },
     "execution_count": 32,
     "metadata": {},
     "output_type": "execute_result"
    }
   ],
   "source": [
    "dispatch_tornado.head()"
   ]
  },
  {
   "cell_type": "code",
   "execution_count": 33,
   "metadata": {},
   "outputs": [
    {
     "data": {
      "text/plain": [
       "GENERAL ALARM COMMERCIAL   INDUSTRIAL BUILD    27\n",
       "OUTSIDE ODOR                                   26\n",
       "WIRES DOWN WITH NO SMOKE OR ARCING             17\n",
       "SMALL BUILDING INVESTIGATION                   15\n",
       "ELECTRICAL HAZARD WITH OR NEAR WATER           12\n",
       "                                               ..\n",
       "ELECTRICAL INVESTIGATION UNKNOWN SITUATION      1\n",
       "ENTRAPMENT UNCONFIRMED  PERIPHERAL              1\n",
       "REQUEST ADDITIONAL FIRE RESOURCES               1\n",
       "TRAUMATIC INJURIES UNKNOWN BODY AREA            1\n",
       "DEFECATION / DIARRHEA                           1\n",
       "Name: Incident Description, Length: 90, dtype: int64"
      ]
     },
     "execution_count": 33,
     "metadata": {},
     "output_type": "execute_result"
    }
   ],
   "source": [
    "dispatch_tornado['Incident Description'].value_counts()"
   ]
  },
  {
   "cell_type": "code",
   "execution_count": 34,
   "metadata": {},
   "outputs": [
    {
     "data": {
      "text/plain": [
       "90"
      ]
     },
     "execution_count": 34,
     "metadata": {},
     "output_type": "execute_result"
    }
   ],
   "source": [
    "dispatch_tornado['Incident Description'].nunique()"
   ]
  },
  {
   "cell_type": "code",
   "execution_count": 35,
   "metadata": {},
   "outputs": [
    {
     "data": {
      "text/plain": [
       "<bound method DataFrame.info of                  DateTime                     Location   Latitude  Longitude  \\\n",
       "0    3/3/2020 12:36:34 AM      6205 COCKRILL BEND CIR   36.182002 -86.894052   \n",
       "1    3/3/2020 12:37:24 AM     7337 COCKRILL BEND BLVD   36.175666 -86.894978   \n",
       "2    3/3/2020 12:38:17 AM         110 TUNE AIRPORT DR   36.179299 -86.883727   \n",
       "3    3/3/2020 12:39:40 AM             555 MARRIOTT DR   36.151108 -86.689921   \n",
       "4    3/3/2020 12:39:42 AM     1414 COUNTY HOSPITAL RD   36.177926 -86.845934   \n",
       "..                    ...                          ...        ...        ...   \n",
       "255   3/3/2020 4:53:43 AM               1616 23RD AV N  36.175739 -86.813173   \n",
       "256   3/3/2020 4:56:56 AM        5610 OLD HICKORY BLVD  36.180487 -86.601466   \n",
       "257   3/3/2020 4:57:06 AM          2903 MORNINGSIDE DR  36.223554 -86.757949   \n",
       "258   3/3/2020 4:57:14 AM               1730 KELLOW ST  36.189445 -86.813466   \n",
       "259   3/3/2020 4:57:48 AM  I24 W / HICKORY HOLLOW PKWY  36.039720 -86.649099   \n",
       "\n",
       "                                  Incident Description  \\\n",
       "0          GENERAL ALARM COMMERCIAL   INDUSTRIAL BUILD   \n",
       "1          GENERAL ALARM COMMERCIAL   INDUSTRIAL BUILD   \n",
       "2               STRUCTURE FIRE COMMERCIAL   INDUSTRIAL   \n",
       "3          GENERAL ALARM COMMERCIAL   INDUSTRIAL BUILD   \n",
       "4          GENERAL ALARM COMMERCIAL   INDUSTRIAL BUILD   \n",
       "..                                                 ...   \n",
       "255  WIRES DOWN WITH NO SMOKE OR ARCING POWER DISCO...   \n",
       "256                       LARGE BUILDING INVESTIGATION   \n",
       "257                    CHEST PAIN - ABNORMAL BREATHING   \n",
       "258             ABNORMAL BREATHING OTHER LUNG PROBLEMS   \n",
       "259                                    UNKNOWN STATUS:   \n",
       "\n",
       "                                  Geometry  \n",
       "0         POINT (-86.89405212 36.18200191)  \n",
       "1     POINT (-86.89497756999999 36.175666)  \n",
       "2          POINT (-86.8837274 36.17929946)  \n",
       "3           POINT (-86.6899214 36.1511077)  \n",
       "4         POINT (-86.84593411 36.17792604)  \n",
       "..                                     ...  \n",
       "255        POINT (-86.8131726 36.17573935)  \n",
       "256       POINT (-86.60146627 36.18048712)  \n",
       "257  POINT (-86.75794879999999 36.2235535)  \n",
       "258       POINT (-86.81346598 36.18944545)  \n",
       "259       POINT (-86.64909858 36.03971988)  \n",
       "\n",
       "[260 rows x 6 columns]>"
      ]
     },
     "execution_count": 35,
     "metadata": {},
     "output_type": "execute_result"
    }
   ],
   "source": [
    "dispatch_tornado.info"
   ]
  },
  {
   "cell_type": "code",
   "execution_count": 36,
   "metadata": {},
   "outputs": [
    {
     "data": {
      "text/plain": [
       "(260, 6)"
      ]
     },
     "execution_count": 36,
     "metadata": {},
     "output_type": "execute_result"
    }
   ],
   "source": [
    "dispatch_tornado.shape"
   ]
  },
  {
   "cell_type": "code",
   "execution_count": 37,
   "metadata": {},
   "outputs": [
    {
     "data": {
      "text/plain": [
       "DateTime                0\n",
       "Location                0\n",
       "Latitude                0\n",
       "Longitude               0\n",
       "Incident Description    0\n",
       "Geometry                0\n",
       "dtype: int64"
      ]
     },
     "execution_count": 37,
     "metadata": {},
     "output_type": "execute_result"
    }
   ],
   "source": [
    "dispatch_tornado.isnull().sum()"
   ]
  },
  {
   "cell_type": "code",
   "execution_count": null,
   "metadata": {},
   "outputs": [],
   "source": []
  }
 ],
 "metadata": {
  "kernelspec": {
   "display_name": "Python 3",
   "language": "python",
   "name": "python3"
  },
  "language_info": {
   "codemirror_mode": {
    "name": "ipython",
    "version": 3
   },
   "file_extension": ".py",
   "mimetype": "text/x-python",
   "name": "python",
   "nbconvert_exporter": "python",
   "pygments_lexer": "ipython3",
   "version": "3.8.5"
  }
 },
 "nbformat": 4,
 "nbformat_minor": 4
}
