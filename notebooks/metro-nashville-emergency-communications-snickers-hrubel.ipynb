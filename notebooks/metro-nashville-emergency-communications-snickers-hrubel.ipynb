{
 "cells": [
  {
   "cell_type": "markdown",
   "metadata": {},
   "source": [
    "### Metro Nashville Emergency Communications"
   ]
  },
  {
   "cell_type": "markdown",
   "metadata": {},
   "source": [
    "#### Snickers: Hypothesis: tie between economic status in NW region of Davidson and number of calls received, specifically lack of calls. Very few calls from northwest region of Davidson. Correlate income per zipcode with calls for each storm.\n",
    "\n",
    "Snickers: North nashville, compare calls/dispatches to full county"
   ]
  },
  {
   "cell_type": "markdown",
   "metadata": {},
   "source": [
    "#### Timeline of each storm/ Beginning and end of the event\n",
    "Tornado calls: 3/3/2020 12:34am-4:58am\n",
    "\n",
    "Tornado cad: 12:36am-4:57am\n",
    "\n",
    "Derecho calls: 5/3/2020 4:30pm- 5/4/2020 12:29am\n",
    "\n",
    "Derecho cad: 4:31pm-12:29am"
   ]
  },
  {
   "cell_type": "code",
   "execution_count": 169,
   "metadata": {},
   "outputs": [],
   "source": [
    "import pandas as pd\n",
    "from shapely.geometry import Point\n",
    "import pandas as pd\n",
    "import geopandas as gpd\n",
    "import matplotlib.pyplot as plt\n",
    "import folium\n",
    "from folium.plugins import MarkerCluster\n",
    "from folium.plugins import FastMarkerCluster"
   ]
  },
  {
   "cell_type": "markdown",
   "metadata": {},
   "source": [
    "### Reading in data"
   ]
  },
  {
   "cell_type": "code",
   "execution_count": 188,
   "metadata": {},
   "outputs": [
    {
     "name": "stdout",
     "output_type": "stream",
     "text": [
      "epsg:4326\n"
     ]
    }
   ],
   "source": [
    "derecho_calls=pd.read_csv(\"../data/911_Phone Calls_Derecho_050320 050420.csv\")\n",
    "tornado_calls=pd.read_csv(\"../data/911_Phone_Calls_Tornado_030320.csv\")\n",
    "derecho_cad=pd.read_csv(\"../data/Computer Aided Dispatch Data_Derecho Incidents 050320-050420.csv\", skiprows=3)\n",
    "tornado_cad=pd.read_csv(\"../data/Computer Aided Dispatch Data_Tornado Incidents 030320.csv\", skiprows=3)\n",
    "sirens = pd.read_csv('../data/Tornado_Siren_Locations.csv')\n",
    "dispatch = pd.read_csv('../data/dispatch.csv')\n",
    "zipcodes = gpd.read_file('../data/zipcodes.geojson')\n",
    "print(zipcodes.crs)"
   ]
  },
  {
   "cell_type": "markdown",
   "metadata": {},
   "source": [
    "### Renaming and setting up columns"
   ]
  },
  {
   "cell_type": "code",
   "execution_count": 189,
   "metadata": {},
   "outputs": [],
   "source": [
    "tornado_calls.columns = ['datetime', 'calltype','lat','lng','address']\n",
    "derecho_cad.columns = ['datetime', 'calltype','lat','lng','alarm']\n",
    "tornado_cad.columns = ['datetime', 'calltype','lat','lng','alarm']\n",
    "derecho_calls.columns = ['datetime', 'calltype','lat','lng','address']\n",
    "zipcodes = zipcodes[['zip', 'po_name', 'geometry']]\n",
    "dispatch=dispatch[[ 'tencode', 'lat', 'lng', 'call_date','call_time']]"
   ]
  },
  {
   "cell_type": "code",
   "execution_count": 190,
   "metadata": {},
   "outputs": [
    {
     "data": {
      "text/html": [
       "<div>\n",
       "<style scoped>\n",
       "    .dataframe tbody tr th:only-of-type {\n",
       "        vertical-align: middle;\n",
       "    }\n",
       "\n",
       "    .dataframe tbody tr th {\n",
       "        vertical-align: top;\n",
       "    }\n",
       "\n",
       "    .dataframe thead th {\n",
       "        text-align: right;\n",
       "    }\n",
       "</style>\n",
       "<table border=\"1\" class=\"dataframe\">\n",
       "  <thead>\n",
       "    <tr style=\"text-align: right;\">\n",
       "      <th></th>\n",
       "      <th>Site Name</th>\n",
       "      <th>Zip</th>\n",
       "      <th>lat</th>\n",
       "      <th>lng</th>\n",
       "    </tr>\n",
       "  </thead>\n",
       "  <tbody>\n",
       "    <tr>\n",
       "      <th>0</th>\n",
       "      <td>Ezell Road Park</td>\n",
       "      <td>37211</td>\n",
       "      <td>36.090944</td>\n",
       "      <td>-86.686028</td>\n",
       "    </tr>\n",
       "    <tr>\n",
       "      <th>1</th>\n",
       "      <td>Sevier Park</td>\n",
       "      <td>37204</td>\n",
       "      <td>36.118861</td>\n",
       "      <td>-86.787889</td>\n",
       "    </tr>\n",
       "  </tbody>\n",
       "</table>\n",
       "</div>"
      ],
      "text/plain": [
       "         Site Name    Zip        lat         lng\n",
       "0  Ezell Road Park  37211  36.090944  -86.686028\n",
       "1      Sevier Park  37204  36.118861  -86.787889"
      ]
     },
     "execution_count": 190,
     "metadata": {},
     "output_type": "execute_result"
    }
   ],
   "source": [
    "sirens[[\"lat\", \"lng\"]]= sirens.pop(\"Location\").str.split(\", \", n = 1, expand = True)\n",
    "sirens['lat']= sirens['lat'].str[1:]\n",
    "sirens['lng'] = sirens['lng'].str[:-1]\n",
    "sirens=sirens[[\"Site Name\", \"Zip\",\"lat\",\"lng\"]]\n",
    "sirens.head(2)"
   ]
  },
  {
   "cell_type": "markdown",
   "metadata": {},
   "source": [
    "### Creating geometry column for dfs"
   ]
  },
  {
   "cell_type": "code",
   "execution_count": 191,
   "metadata": {},
   "outputs": [],
   "source": [
    "derecho_calls['geometry'] = derecho_calls.apply(lambda x: Point((float(x.lng), \n",
    "                                                         float(x.lat))), \n",
    "                                        axis=1)\n",
    "tornado_calls['geometry'] = tornado_calls.apply(lambda x: Point((float(x.lng), \n",
    "                                                         float(x.lat))), \n",
    "                                        axis=1)\n",
    "tornado_cad['geometry'] = tornado_cad.apply(lambda x: Point((float(x.lng), \n",
    "                                                         float(x.lat))), \n",
    "                                        axis=1)\n",
    "derecho_cad['geometry'] = derecho_cad.apply(lambda x: Point((float(x.lng), \n",
    "                                                         float(x.lat))), \n",
    "                                        axis=1)\n",
    "dispatch['geometry'] = dispatch.apply(lambda x: Point((float(x.lng), \n",
    "                                                         float(x.lat))), \n",
    "                                        axis=1)\n",
    "sirens['geometry'] = sirens.apply(lambda x: Point((float(x.lng), \n",
    "                                                         float(x.lat))), \n",
    "                                        axis=1)"
   ]
  },
  {
   "cell_type": "code",
   "execution_count": 192,
   "metadata": {},
   "outputs": [
    {
     "data": {
      "text/plain": [
       "<Geographic 2D CRS: EPSG:4326>\n",
       "Name: WGS 84\n",
       "Axis Info [ellipsoidal]:\n",
       "- Lat[north]: Geodetic latitude (degree)\n",
       "- Lon[east]: Geodetic longitude (degree)\n",
       "Area of Use:\n",
       "- name: World\n",
       "- bounds: (-180.0, -90.0, 180.0, 90.0)\n",
       "Datum: World Geodetic System 1984\n",
       "- Ellipsoid: WGS 84\n",
       "- Prime Meridian: Greenwich"
      ]
     },
     "execution_count": 192,
     "metadata": {},
     "output_type": "execute_result"
    }
   ],
   "source": [
    "zipcodes.crs"
   ]
  },
  {
   "cell_type": "code",
   "execution_count": 193,
   "metadata": {},
   "outputs": [
    {
     "data": {
      "text/plain": [
       "geopandas.geodataframe.GeoDataFrame"
      ]
     },
     "execution_count": 193,
     "metadata": {},
     "output_type": "execute_result"
    }
   ],
   "source": [
    "tornado_calls_geo = gpd.GeoDataFrame(tornado_calls, \n",
    "                           crs = zipcodes.crs, \n",
    "                           geometry = tornado_calls['geometry'])\n",
    "type(tornado_calls_geo)\n",
    "derecho_calls_geo = gpd.GeoDataFrame(derecho_calls, \n",
    "                           crs = zipcodes.crs, \n",
    "                           geometry = derecho_calls['geometry'])\n",
    "type(derecho_calls_geo)\n",
    "tornado_cad_geo = gpd.GeoDataFrame(tornado_cad, \n",
    "                           crs = zipcodes.crs, \n",
    "                           geometry = tornado_cad['geometry'])\n",
    "type(tornado_cad_geo)\n",
    "derecho_cad_geo = gpd.GeoDataFrame(derecho_cad, \n",
    "                           crs = zipcodes.crs, \n",
    "                           geometry = derecho_cad['geometry'])\n",
    "type(derecho_cad_geo)\n",
    "dispatch_geo = gpd.GeoDataFrame(dispatch, \n",
    "                           crs = zipcodes.crs, \n",
    "                           geometry = dispatch['geometry'])\n",
    "type(dispatch_geo)\n",
    "sirens_geo = gpd.GeoDataFrame(sirens, \n",
    "                           crs = zipcodes.crs, \n",
    "                           geometry = dispatch['geometry'])\n",
    "type(sirens_geo)"
   ]
  },
  {
   "cell_type": "markdown",
   "metadata": {},
   "source": [
    "### Joining dfs"
   ]
  },
  {
   "cell_type": "code",
   "execution_count": 196,
   "metadata": {},
   "outputs": [],
   "source": [
    "tornado_calls_zip = gpd.sjoin(tornado_calls_geo, zipcodes, op = 'within')\n",
    "tornado_calls_zip=tornado_calls_zip.reset_index(drop = True)\n",
    "tornado_cad_zip = gpd.sjoin(tornado_cad_geo, zipcodes, op = 'within')\n",
    "tornado_cad_zip=tornado_cad_zip.reset_index(drop = True)\n",
    "derecho_calls_zip = gpd.sjoin(derecho_calls_geo, zipcodes, op = 'within')\n",
    "derecho_calls_zip=derecho_calls_zip.reset_index(drop = True)\n",
    "derecho_cad_zip = gpd.sjoin(derecho_cad_geo, zipcodes, op = 'within')\n",
    "derecho_cad_zip=derecho_cad_zip.reset_index(drop = True)\n",
    "dispatch_zip = gpd.sjoin(dispatch_geo, zipcodes, op = 'within')\n",
    "dispatch_zip=dispatch_zip.reset_index(drop = True)"
   ]
  },
  {
   "cell_type": "markdown",
   "metadata": {},
   "source": [
    "### Drilling down to NW Nash"
   ]
  },
  {
   "cell_type": "code",
   "execution_count": 197,
   "metadata": {},
   "outputs": [],
   "source": [
    "poly_zip=zipcodes[zipcodes['zip'].isin(['37207', '37072', '37189', '37218','37015','37080'])]\n",
    "poly_zip=poly_zip.reset_index(drop = True)\n",
    "tcalls_in_nw = tornado_calls_zip[tornado_calls_zip['zip'].isin(['37207', '37072', '37189', '37218','37015','37080'])]\n",
    "tcalls_in_nw=tcalls_in_nw.reset_index(drop = True)\n",
    "tcad_in_nw = tornado_cad_zip[tornado_cad_zip['zip'].isin(['37207', '37072', '37189', '37218','37015','37080'])]\n",
    "tcad_in_nw=tcad_in_nw.reset_index(drop = True)\n",
    "dcalls_in_nw = derecho_calls_zip[derecho_calls_zip['zip'].isin(['37207', '37072', '37189', '37218','37015','37080'])]\n",
    "dcalls_in_nw=dcalls_in_nw.reset_index(drop = True)\n",
    "dcad_in_nw = derecho_cad_zip[derecho_cad_zip['zip'].isin(['37207', '37072', '37189', '37218','37015','37080'])]\n",
    "dcad_in_nw=dcad_in_nw.reset_index(drop = True)\n",
    "sirens_nw=sirens[sirens['Zip'].isin(['37207', '37072', '37189', '37218','37015','37080'])]\n",
    "dispatch_nw=dispatch_zip[dispatch_zip['zip'].isin(['37207', '37072', '37189', '37218','37015','37080'])]"
   ]
  },
  {
   "cell_type": "markdown",
   "metadata": {},
   "source": [
    "### Merging all df"
   ]
  },
  {
   "cell_type": "code",
   "execution_count": 26,
   "metadata": {},
   "outputs": [
    {
     "ename": "KeyboardInterrupt",
     "evalue": "",
     "output_type": "error",
     "traceback": [
      "\u001b[0;31m---------------------------------------------------------------------------\u001b[0m",
      "\u001b[0;31mKeyboardInterrupt\u001b[0m                         Traceback (most recent call last)",
      "\u001b[0;32m<ipython-input-26-a70f3b87848d>\u001b[0m in \u001b[0;36m<module>\u001b[0;34m\u001b[0m\n\u001b[0;32m----> 1\u001b[0;31m \u001b[0mfinal_df\u001b[0m\u001b[0;34m=\u001b[0m \u001b[0mtornado_calls_zip\u001b[0m\u001b[0;34m.\u001b[0m\u001b[0mmerge\u001b[0m\u001b[0;34m(\u001b[0m\u001b[0mtornado_cad_zip\u001b[0m\u001b[0;34m,\u001b[0m\u001b[0mon\u001b[0m\u001b[0;34m=\u001b[0m\u001b[0;34m'zip'\u001b[0m\u001b[0;34m)\u001b[0m\u001b[0;34m.\u001b[0m\u001b[0mmerge\u001b[0m\u001b[0;34m(\u001b[0m\u001b[0mderecho_calls_zip\u001b[0m\u001b[0;34m,\u001b[0m\u001b[0mon\u001b[0m\u001b[0;34m=\u001b[0m\u001b[0;34m'zip'\u001b[0m\u001b[0;34m)\u001b[0m\u001b[0;34m.\u001b[0m\u001b[0mmerge\u001b[0m\u001b[0;34m(\u001b[0m\u001b[0mderecho_cad_zip\u001b[0m\u001b[0;34m,\u001b[0m\u001b[0mon\u001b[0m\u001b[0;34m=\u001b[0m\u001b[0;34m'zip'\u001b[0m\u001b[0;34m)\u001b[0m\u001b[0;34m.\u001b[0m\u001b[0mmerge\u001b[0m\u001b[0;34m(\u001b[0m\u001b[0mdispatch_zip\u001b[0m\u001b[0;34m,\u001b[0m\u001b[0mon\u001b[0m\u001b[0;34m=\u001b[0m\u001b[0;34m'zip'\u001b[0m\u001b[0;34m)\u001b[0m\u001b[0;34m\u001b[0m\u001b[0;34m\u001b[0m\u001b[0m\n\u001b[0m",
      "\u001b[0;32m/opt/anaconda3/envs/geospatial/lib/python3.8/site-packages/pandas/core/frame.py\u001b[0m in \u001b[0;36mmerge\u001b[0;34m(self, right, how, on, left_on, right_on, left_index, right_index, sort, suffixes, copy, indicator, validate)\u001b[0m\n\u001b[1;32m   7948\u001b[0m         \u001b[0;32mfrom\u001b[0m \u001b[0mpandas\u001b[0m\u001b[0;34m.\u001b[0m\u001b[0mcore\u001b[0m\u001b[0;34m.\u001b[0m\u001b[0mreshape\u001b[0m\u001b[0;34m.\u001b[0m\u001b[0mmerge\u001b[0m \u001b[0;32mimport\u001b[0m \u001b[0mmerge\u001b[0m\u001b[0;34m\u001b[0m\u001b[0;34m\u001b[0m\u001b[0m\n\u001b[1;32m   7949\u001b[0m \u001b[0;34m\u001b[0m\u001b[0m\n\u001b[0;32m-> 7950\u001b[0;31m         return merge(\n\u001b[0m\u001b[1;32m   7951\u001b[0m             \u001b[0mself\u001b[0m\u001b[0;34m,\u001b[0m\u001b[0;34m\u001b[0m\u001b[0;34m\u001b[0m\u001b[0m\n\u001b[1;32m   7952\u001b[0m             \u001b[0mright\u001b[0m\u001b[0;34m,\u001b[0m\u001b[0;34m\u001b[0m\u001b[0;34m\u001b[0m\u001b[0m\n",
      "\u001b[0;32m/opt/anaconda3/envs/geospatial/lib/python3.8/site-packages/pandas/core/reshape/merge.py\u001b[0m in \u001b[0;36mmerge\u001b[0;34m(left, right, how, on, left_on, right_on, left_index, right_index, sort, suffixes, copy, indicator, validate)\u001b[0m\n\u001b[1;32m     87\u001b[0m         \u001b[0mvalidate\u001b[0m\u001b[0;34m=\u001b[0m\u001b[0mvalidate\u001b[0m\u001b[0;34m,\u001b[0m\u001b[0;34m\u001b[0m\u001b[0;34m\u001b[0m\u001b[0m\n\u001b[1;32m     88\u001b[0m     )\n\u001b[0;32m---> 89\u001b[0;31m     \u001b[0;32mreturn\u001b[0m \u001b[0mop\u001b[0m\u001b[0;34m.\u001b[0m\u001b[0mget_result\u001b[0m\u001b[0;34m(\u001b[0m\u001b[0;34m)\u001b[0m\u001b[0;34m\u001b[0m\u001b[0;34m\u001b[0m\u001b[0m\n\u001b[0m\u001b[1;32m     90\u001b[0m \u001b[0;34m\u001b[0m\u001b[0m\n\u001b[1;32m     91\u001b[0m \u001b[0;34m\u001b[0m\u001b[0m\n",
      "\u001b[0;32m/opt/anaconda3/envs/geospatial/lib/python3.8/site-packages/pandas/core/reshape/merge.py\u001b[0m in \u001b[0;36mget_result\u001b[0;34m(self)\u001b[0m\n\u001b[1;32m    666\u001b[0m             \u001b[0mself\u001b[0m\u001b[0;34m.\u001b[0m\u001b[0mleft\u001b[0m\u001b[0;34m,\u001b[0m \u001b[0mself\u001b[0m\u001b[0;34m.\u001b[0m\u001b[0mright\u001b[0m \u001b[0;34m=\u001b[0m \u001b[0mself\u001b[0m\u001b[0;34m.\u001b[0m\u001b[0m_indicator_pre_merge\u001b[0m\u001b[0;34m(\u001b[0m\u001b[0mself\u001b[0m\u001b[0;34m.\u001b[0m\u001b[0mleft\u001b[0m\u001b[0;34m,\u001b[0m \u001b[0mself\u001b[0m\u001b[0;34m.\u001b[0m\u001b[0mright\u001b[0m\u001b[0;34m)\u001b[0m\u001b[0;34m\u001b[0m\u001b[0;34m\u001b[0m\u001b[0m\n\u001b[1;32m    667\u001b[0m \u001b[0;34m\u001b[0m\u001b[0m\n\u001b[0;32m--> 668\u001b[0;31m         \u001b[0mjoin_index\u001b[0m\u001b[0;34m,\u001b[0m \u001b[0mleft_indexer\u001b[0m\u001b[0;34m,\u001b[0m \u001b[0mright_indexer\u001b[0m \u001b[0;34m=\u001b[0m \u001b[0mself\u001b[0m\u001b[0;34m.\u001b[0m\u001b[0m_get_join_info\u001b[0m\u001b[0;34m(\u001b[0m\u001b[0;34m)\u001b[0m\u001b[0;34m\u001b[0m\u001b[0;34m\u001b[0m\u001b[0m\n\u001b[0m\u001b[1;32m    669\u001b[0m \u001b[0;34m\u001b[0m\u001b[0m\n\u001b[1;32m    670\u001b[0m         llabels, rlabels = _items_overlap_with_suffix(\n",
      "\u001b[0;32m/opt/anaconda3/envs/geospatial/lib/python3.8/site-packages/pandas/core/reshape/merge.py\u001b[0m in \u001b[0;36m_get_join_info\u001b[0;34m(self)\u001b[0m\n\u001b[1;32m    882\u001b[0m             )\n\u001b[1;32m    883\u001b[0m         \u001b[0;32melse\u001b[0m\u001b[0;34m:\u001b[0m\u001b[0;34m\u001b[0m\u001b[0;34m\u001b[0m\u001b[0m\n\u001b[0;32m--> 884\u001b[0;31m             \u001b[0;34m(\u001b[0m\u001b[0mleft_indexer\u001b[0m\u001b[0;34m,\u001b[0m \u001b[0mright_indexer\u001b[0m\u001b[0;34m)\u001b[0m \u001b[0;34m=\u001b[0m \u001b[0mself\u001b[0m\u001b[0;34m.\u001b[0m\u001b[0m_get_join_indexers\u001b[0m\u001b[0;34m(\u001b[0m\u001b[0;34m)\u001b[0m\u001b[0;34m\u001b[0m\u001b[0;34m\u001b[0m\u001b[0m\n\u001b[0m\u001b[1;32m    885\u001b[0m \u001b[0;34m\u001b[0m\u001b[0m\n\u001b[1;32m    886\u001b[0m             \u001b[0;32mif\u001b[0m \u001b[0mself\u001b[0m\u001b[0;34m.\u001b[0m\u001b[0mright_index\u001b[0m\u001b[0;34m:\u001b[0m\u001b[0;34m\u001b[0m\u001b[0;34m\u001b[0m\u001b[0m\n",
      "\u001b[0;32m/opt/anaconda3/envs/geospatial/lib/python3.8/site-packages/pandas/core/reshape/merge.py\u001b[0m in \u001b[0;36m_get_join_indexers\u001b[0;34m(self)\u001b[0m\n\u001b[1;32m    860\u001b[0m     \u001b[0;32mdef\u001b[0m \u001b[0m_get_join_indexers\u001b[0m\u001b[0;34m(\u001b[0m\u001b[0mself\u001b[0m\u001b[0;34m)\u001b[0m\u001b[0;34m:\u001b[0m\u001b[0;34m\u001b[0m\u001b[0;34m\u001b[0m\u001b[0m\n\u001b[1;32m    861\u001b[0m         \u001b[0;34m\"\"\" return the join indexers \"\"\"\u001b[0m\u001b[0;34m\u001b[0m\u001b[0;34m\u001b[0m\u001b[0m\n\u001b[0;32m--> 862\u001b[0;31m         return _get_join_indexers(\n\u001b[0m\u001b[1;32m    863\u001b[0m             \u001b[0mself\u001b[0m\u001b[0;34m.\u001b[0m\u001b[0mleft_join_keys\u001b[0m\u001b[0;34m,\u001b[0m \u001b[0mself\u001b[0m\u001b[0;34m.\u001b[0m\u001b[0mright_join_keys\u001b[0m\u001b[0;34m,\u001b[0m \u001b[0msort\u001b[0m\u001b[0;34m=\u001b[0m\u001b[0mself\u001b[0m\u001b[0;34m.\u001b[0m\u001b[0msort\u001b[0m\u001b[0;34m,\u001b[0m \u001b[0mhow\u001b[0m\u001b[0;34m=\u001b[0m\u001b[0mself\u001b[0m\u001b[0;34m.\u001b[0m\u001b[0mhow\u001b[0m\u001b[0;34m\u001b[0m\u001b[0;34m\u001b[0m\u001b[0m\n\u001b[1;32m    864\u001b[0m         )\n",
      "\u001b[0;32m/opt/anaconda3/envs/geospatial/lib/python3.8/site-packages/pandas/core/reshape/merge.py\u001b[0m in \u001b[0;36m_get_join_indexers\u001b[0;34m(left_keys, right_keys, sort, how, **kwargs)\u001b[0m\n\u001b[1;32m   1348\u001b[0m     }[how]\n\u001b[1;32m   1349\u001b[0m \u001b[0;34m\u001b[0m\u001b[0m\n\u001b[0;32m-> 1350\u001b[0;31m     \u001b[0;32mreturn\u001b[0m \u001b[0mjoin_func\u001b[0m\u001b[0;34m(\u001b[0m\u001b[0mlkey\u001b[0m\u001b[0;34m,\u001b[0m \u001b[0mrkey\u001b[0m\u001b[0;34m,\u001b[0m \u001b[0mcount\u001b[0m\u001b[0;34m,\u001b[0m \u001b[0;34m**\u001b[0m\u001b[0mkwargs\u001b[0m\u001b[0;34m)\u001b[0m\u001b[0;34m\u001b[0m\u001b[0;34m\u001b[0m\u001b[0m\n\u001b[0m\u001b[1;32m   1351\u001b[0m \u001b[0;34m\u001b[0m\u001b[0m\n\u001b[1;32m   1352\u001b[0m \u001b[0;34m\u001b[0m\u001b[0m\n",
      "\u001b[0;31mKeyboardInterrupt\u001b[0m: "
     ]
    }
   ],
   "source": [
    "final_df= tornado_calls_zip.merge(tornado_cad_zip,on='zip').merge(derecho_calls_zip,on='zip').merge(derecho_cad_zip,on='zip').merge(dispatch_zip,on='zip')\n"
   ]
  },
  {
   "cell_type": "markdown",
   "metadata": {},
   "source": [
    "### Separating storms from dispatch data"
   ]
  },
  {
   "cell_type": "code",
   "execution_count": null,
   "metadata": {},
   "outputs": [],
   "source": [
    "dispatch_tornado=dispatch_zip[dispatch_zip['call_date'].isin(['03/03/2020'])]\n",
    "dispatch_tornado=dispatch_tornado.reset_index(drop = True)\n",
    "dispatch_derecho=dispatch_zip[dispatch_zip['call_date'].isin(['05/03/2020','05,04,2020'])]\n",
    "dispatch_derecho=dispatch_derecho.reset_index(drop = True)"
   ]
  },
  {
   "cell_type": "code",
   "execution_count": null,
   "metadata": {},
   "outputs": [],
   "source": [
    "nashville = (36.16784, -86.77816)\n",
    "\n",
    "nash_map = folium.Map(location = nashville, zoom_start = 10)"
   ]
  },
  {
   "cell_type": "code",
   "execution_count": null,
   "metadata": {},
   "outputs": [],
   "source": [
    "nash_map = folium.Map(location = nashville, zoom_start = 10)\n",
    "image_file = '../data/map_legend.png'\n",
    "FloatImage(image_file, bottom=5, left=70).add_to(nash_map)\n",
    "feature_group = folium.FeatureGroup(name='Districts', show=True )\n",
    "feature_group1 = folium.FeatureGroup(name='School District 1', show=False )\n",
    "feature_group2 = folium.FeatureGroup(name='School District 2', show=False)\n",
    "feature_group3 = folium.FeatureGroup(name='School District 3', show=False)\n",
    "feature_group4 = folium.FeatureGroup(name='School District 4', show=False)\n",
    "feature_group5 = folium.FeatureGroup(name='School District 5', show=False)\n",
    "feature_group6 = folium.FeatureGroup(name='School District 6', show=False)\n",
    "feature_group7 = folium.FeatureGroup(name='School District 7', show=False)\n",
    "feature_group8 = folium.FeatureGroup(name='School District 8', show=False)\n",
    "feature_group9 = folium.FeatureGroup(name='School District 9', show=False)\n",
    "nash_map.add_child(feature_group)\n",
    "nash_map.add_child(feature_group1)\n",
    "nash_map.add_child(feature_group2)\n",
    "nash_map.add_child(feature_group3)\n",
    "nash_map.add_child(feature_group4)\n",
    "nash_map.add_child(feature_group5)\n",
    "nash_map.add_child(feature_group6)\n",
    "nash_map.add_child(feature_group7)\n",
    "nash_map.add_child(feature_group8)\n",
    "nash_map.add_child(feature_group9)\n",
    "folium.GeoJson(school_districts['geometry']).add_to(feature_group)\n",
    "marker_cluster1 = MarkerCluster().add_to(feature_group1)\n",
    "marker_cluster2 = MarkerCluster().add_to(feature_group2)\n",
    "marker_cluster3 = MarkerCluster().add_to(feature_group3)\n",
    "marker_cluster4 = MarkerCluster().add_to(feature_group4)\n",
    "marker_cluster5 = MarkerCluster().add_to(feature_group5)\n",
    "marker_cluster6 = MarkerCluster().add_to(feature_group6)\n",
    "marker_cluster7 = MarkerCluster().add_to(feature_group7)\n",
    "marker_cluster8 = MarkerCluster().add_to(feature_group8)\n",
    "marker_cluster9 = MarkerCluster().add_to(feature_group9)\n",
    "def color(Students):\n",
    "    if Students <= 100.0:\n",
    "        col = 'green'\n",
    "    elif Students <= 200.0:\n",
    "        col = 'blue'\n",
    "    elif Students <= 300.0:\n",
    "        col = 'yellow'\n",
    "    else:\n",
    "        col='red'\n",
    "    return col\n",
    "for row_index, row_values in nct_19_d1.iterrows():\n",
    "    loc = [row_values['lat'], row_values['long']]\n",
    "    pop = str(row_values['School Name']) + '<br><br> Category: ' + str(row_values['Category']) + '<br><br> Students: ' + str(row_values['Students'])\n",
    "    icon=folium.Icon(color=color(row_values['Students']), icon = 'building', prefix='fa', textalign = 'center')\n",
    "    marker = folium.Marker(tooltip = 'School District 1',\n",
    "        location = loc,\n",
    "        popup = pop, icon = icon).add_to(feature_group1)\n",
    "    marker.add_to(marker_cluster1)\n",
    "for row_index, row_values in nct_19_d2.iterrows():\n",
    "    loc = [row_values['lat'], row_values['long']]\n",
    "    pop = str(row_values['School Name']) + '<br><br> Category: ' + str(row_values['Category']) +'<br><br> Students: ' + str(row_values['Students'])\n",
    "    icon=folium.Icon(color=color(row_values['Students']), icon = 'building', prefix='fa', textalign = 'center')\n",
    "    marker = folium.Marker(tooltip = 'School District 2',\n",
    "        location = loc,\n",
    "        popup = pop, icon = icon).add_to(feature_group2)\n",
    "    marker.add_to(marker_cluster2)\n",
    "for row_index, row_values in nct_19_d3.iterrows():\n",
    "    loc = [row_values['lat'], row_values['long']]\n",
    "    pop = str(row_values['School Name']) + '<br><br> Category: ' + str(row_values['Category']) + '<br><br> Students: ' + str(row_values['Students'])\n",
    "    icon=folium.Icon(color=color(row_values['Students']), icon = 'building', prefix='fa', textalign = 'center')\n",
    "    marker = folium.Marker(tooltip = 'School District 3',\n",
    "        location = loc,\n",
    "        popup = pop, icon = icon).add_to(feature_group3)\n",
    "    marker.add_to(marker_cluster3)\n",
    "for row_index, row_values in nct_19_d4.iterrows():\n",
    "    loc = [row_values['lat'], row_values['long']]\n",
    "    pop = str(row_values['School Name']) + '<br><br> Category: ' + str(row_values['Category']) + '<br><br> Students: ' + str(row_values['Students'])\n",
    "    icon=folium.Icon(color=color(row_values['Students']), icon = 'building', prefix='fa', textalign = 'center')\n",
    "    marker = folium.Marker(tooltip = 'School District 4',\n",
    "        location = loc,\n",
    "        popup = pop, icon = icon).add_to(feature_group4)\n",
    "    marker.add_to(marker_cluster4)\n",
    "for row_index, row_values in nct_19_d5.iterrows():\n",
    "    loc = [row_values['lat'], row_values['long']]\n",
    "    pop = str(row_values['School Name']) + '<br><br> Category: ' + str(row_values['Category']) + '<br><br> Students: ' + str(row_values['Students'])\n",
    "    icon=folium.Icon(color=color(row_values['Students']), icon = 'building', prefix='fa', textalign = 'center')\n",
    "    marker = folium.Marker(tooltip = 'School District 5',\n",
    "        location = loc,\n",
    "        popup = pop, icon = icon).add_to(feature_group5)\n",
    "    marker.add_to(marker_cluster5)\n",
    "for row_index, row_values in nct_19_d6.iterrows():\n",
    "    loc = [row_values['lat'], row_values['long']]\n",
    "    pop = str(row_values['School Name']) + '<br><br> Category: ' + str(row_values['Category']) + '<br><br> Students: ' + str(row_values['Students'])\n",
    "    icon=folium.Icon(color=color(row_values['Students']), icon = 'building', prefix='fa', textalign = 'center')\n",
    "    marker = folium.Marker(tooltip = 'School District 6',\n",
    "        location = loc,\n",
    "        popup = pop, icon = icon).add_to(feature_group6)\n",
    "    marker.add_to(marker_cluster6)\n",
    "for row_index, row_values in nct_19_d7.iterrows():\n",
    "    loc = [row_values['lat'], row_values['long']]\n",
    "    pop = str(row_values['School Name']) + '<br><br> Category: ' + str(row_values['Category']) + '<br><br> Students: ' + str(row_values['Students'])\n",
    "    icon=folium.Icon(color=color(row_values['Students']), icon = 'building', prefix='fa', textalign = 'center')\n",
    "    marker = folium.Marker(tooltip = 'School District 7',\n",
    "        location = loc,\n",
    "        popup = pop, icon = icon).add_to(feature_group7)\n",
    "    marker.add_to(marker_cluster7)\n",
    "for row_index, row_values in nct_19_d8.iterrows():\n",
    "    loc = [row_values['lat'], row_values['long']]\n",
    "    pop = str(row_values['School Name']) + '<br><br> Category: ' + str(row_values['Category']) + '<br><br> Students: ' + str(row_values['Students'])\n",
    "    icon=folium.Icon(color=color(row_values['Students']), icon = 'building', prefix='fa', textalign = 'center')\n",
    "    marker = folium.Marker(tooltip = 'School District 8',\n",
    "        location = loc,\n",
    "        popup = pop, icon = icon).add_to(feature_group8)\n",
    "    marker.add_to(marker_cluster8)\n",
    "for row_index, row_values in nct_19_d9.iterrows():\n",
    "    loc = [row_values['lat'], row_values['long']]\n",
    "    pop = str(row_values['School Name']) + '<br><br> Category: ' + str(row_values['Category']) + '<br><br> Students: ' + str(row_values['Students'])\n",
    "    icon=folium.Icon(color=color(row_values['Students']), icon = 'building', prefix='fa', textalign = 'center')\n",
    "    marker = folium.Marker(tooltip = 'School District 9',\n",
    "        location = loc,\n",
    "        popup = pop, icon = icon).add_to(feature_group9)\n",
    "    marker.add_to(marker_cluster9)\n",
    "theatre_location = folium.Marker(location = [36.154550, -86.767910], popup = \"Nashville Children's Theatre\" + '<br>FY19', icon = folium.Icon(color = 'purple', icon = 'ticket', prefix = 'fa'))\n",
    "theatre_location.add_to(nash_map)\n",
    "turn on layer control\n",
    "nash_map.add_child(folium.map.LayerControl(collapsed = False))\n",
    "nash_map.save('../maps/nct_grants_map.html')"
   ]
  },
  {
   "cell_type": "code",
   "execution_count": null,
   "metadata": {},
   "outputs": [],
   "source": [
    "new_map_dcad = folium.Map(location =  nashville, zoom_start = 14)\n",
    "\n",
    "marker_cluster = MarkerCluster().add_to(new_map_dcad)\n",
    "\n",
    "folium.GeoJson(zipcodes).add_to(marker_cluster)\n",
    "\n",
    "for row_index, row_values in derecho_cad_zip.iterrows():\n",
    "    loc = [row_values['lat'], row_values['lng']]\n",
    "    pop = str(row_values['alarm'])\n",
    "    icon=folium.Icon(color=\"red\",icon=\"phone\", prefix='fa')\n",
    "    \n",
    "    marker = folium.Marker(\n",
    "        location = loc, \n",
    "        popup = pop,\n",
    "    icon = icon) \n",
    "    \n",
    "    marker.add_to(marker_cluster)\n",
    "\n",
    "    \n",
    "#new_map_dcad.save('../maps/derecho_cad_nash.html')\n",
    "\n",
    "#new_map_dcad "
   ]
  },
  {
   "cell_type": "code",
   "execution_count": null,
   "metadata": {},
   "outputs": [],
   "source": [
    "leg_kwds = {'title': 'Zipcodes', 'loc': 'upper left', \n",
    "            'bbox_to_anchor': (1, 1.03), 'ncol': 2}\n",
    "\n",
    "zipcodes.plot(column = 'zip', figsize=(10, 10),\n",
    "              edgecolor = 'black',\n",
    "              legend = True, legend_kwds = leg_kwds, \n",
    "              cmap = 'tab20c')\n",
    "plt.show()"
   ]
  },
  {
   "cell_type": "code",
   "execution_count": null,
   "metadata": {},
   "outputs": [],
   "source": [
    "map_zipcodes = folium.Map(location =  nashville, zoom_start = 12)\n",
    "\n",
    "folium.GeoJson(zipcodes).add_to(map_zipcodes)\n",
    "\n",
    "for row_index, row_values in tornado_calls_zip.iterrows():\n",
    "    loc = [row_values['lat'], row_values['lng']]\n",
    "    pop = str(row_values['zip'])\n",
    "    icon=folium.Icon(color=\"red\",icon=\"phone\", prefix='fa')\n",
    "    \n",
    "    marker = folium.Marker(\n",
    "        location = loc, \n",
    "        popup = pop, icon = icon) \n",
    "\n",
    "    marker.add_to(map_zipcodes)\n",
    "    \n",
    "#map_zipcodes.save('../maps/mapzipcodes.html')\n",
    "\n",
    "#map_zipcodes"
   ]
  },
  {
   "cell_type": "code",
   "execution_count": null,
   "metadata": {},
   "outputs": [],
   "source": [
    "cluster_map_nw = folium.Map(location =  nashville, zoom_start = 12)\n",
    "\n",
    "marker_cluster = MarkerCluster().add_to(cluster_map_nw)\n",
    "\n",
    "folium.GeoJson(poly_zip).add_to(cluster_map_nw)\n",
    "\n",
    "for row_index, row_values in dcalls_in_nw.iterrows():\n",
    "    loc = [row_values['lat'], row_values['lng']]\n",
    "    pop = str(row_values['address'])\n",
    "    icon=folium.Icon(color=\"red\",icon=\"phone\", prefix='fa')\n",
    "    \n",
    "    marker = folium.Marker(\n",
    "        location = loc, \n",
    "        popup = pop,\n",
    "    icon = icon) \n",
    "    \n",
    "    marker.add_to(marker_cluster)\n",
    "\n",
    "    \n",
    "cluster_map_nw.save('../maps/clusternw.html')\n",
    "\n",
    "cluster_map_nw  "
   ]
  }
 ],
 "metadata": {
  "kernelspec": {
   "display_name": "Python 3",
   "language": "python",
   "name": "python3"
  },
  "language_info": {
   "codemirror_mode": {
    "name": "ipython",
    "version": 3
   },
   "file_extension": ".py",
   "mimetype": "text/x-python",
   "name": "python",
   "nbconvert_exporter": "python",
   "pygments_lexer": "ipython3",
   "version": "3.8.5"
  }
 },
 "nbformat": 4,
 "nbformat_minor": 4
}
